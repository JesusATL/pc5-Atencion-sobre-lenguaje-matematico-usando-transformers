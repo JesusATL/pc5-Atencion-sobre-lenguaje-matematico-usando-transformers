{
 "cells": [
  {
   "cell_type": "markdown",
   "source": [
    "# Paper: Analysing Mathematical Reasoning Abilities of Neural Models\r\n",
    "----\r\n",
    "El dataset cuenta con una lista de problemas matemáticos clasificados de la siguiente manera:\r\n",
    "\r\n",
    "    - algebra\r\n",
    "    - numbers\r\n",
    "    - polynomials\r\n",
    "    - arithmetic\r\n",
    "    - measurement\r\n",
    "    - comparison\r\n",
    "    - probability\r\n",
    "    - calculus\r\n",
    "    \r\n",
    "Todos los problemas están constituidos por una pregunta textual como \"¿qué es 30 + 535?\" (Máximo 160 caracteres) y una respuesta textual \"565\" (máximo 30 caracteres). Por lo tanto, no es una representación abstracta de un problema matemático, sino muy humano y mezcla el procesamiento del lenguaje natural con conceptos matemáticos.\r\n",
    "\r\n",
    "Para cada una de esas categorías, proporciona múltiples módulos de operación. Por ejemplo, en la categoría `algebra`:\r\n",
    "\r\n",
    "    - mul\r\n",
    "    - add_or_sub_in_base\r\n",
    "    - simplificar_surd\r\n",
    "    - mul_div_multiple\r\n",
    "    - mezclado\r\n",
    "    - raíz_integer_más cercana\r\n",
    "    - div\r\n",
    "    - add_or_sub\r\n",
    "    - add_sub_multiple\r\n",
    "    - add_sub_multiple_longer\r\n",
    "    - mul_div_multiple_longer\r\n",
    "    - div_big\r\n",
    "    - mul_big\r\n",
    "    - mixed_longer\r\n",
    "    - add_or_sub_big\r\n",
    "\r\n",
    "El problema se puede generar con diferentes dificultades:\r\n",
    "\r\n",
    "    - train-easy\r\n",
    "    - train-medium\r\n",
    "    - train-hard\r\n",
    "\r\n",
    "También proporciona conjuntos de datos de prueba para pruebas de \"interpolación\" que combinan todo tipo de problemas por categoría y pruebas de \"extrapolación\" para medir las capacidades de generalización de los modelos."
   ],
   "metadata": {}
  },
  {
   "cell_type": "code",
   "execution_count": 1,
   "source": [
    "import math\r\n",
    "import numpy as np\r\n",
    "import torch\r\n",
    "from torch.utils import data\r\n",
    "import torch.optim as optim\r\n",
    "\r\n",
    "import math_dataset\r\n",
    "from math_dataset import MathDatasetManager\r\n",
    "\r\n",
    "from transformer.Models import Transformer\r\n",
    "from math_dataset import (\r\n",
    "    random_split_dataset,\r\n",
    "    question_answer_to_position_batch_collate_fn\r\n",
    ")\r\n",
    "import model_process\r\n",
    "import utils\r\n",
    "from tensorboard_utils import Tensorboard\r\n",
    "from tensorboard_utils import tensorboard_event_accumulator\r\n",
    "\r\n",
    "import checkpoints\r\n",
    "\r\n",
    "import matplotlib\r\n",
    "import numpy as np\r\n",
    "import matplotlib.pyplot as plt\r\n",
    "%matplotlib notebook\r\n",
    "\r\n",
    "print(\"Torch Version\", torch.__version__)\r\n",
    "\r\n",
    "%load_ext autoreload\r\n",
    "%autoreload 2\r\n"
   ],
   "outputs": [
    {
     "output_type": "stream",
     "name": "stdout",
     "text": [
      "Torch Version 1.5.0+cpu\n"
     ]
    }
   ],
   "metadata": {}
  },
  {
   "cell_type": "markdown",
   "source": [
    "## Math Dataset Manager\r\n",
    "Esta clase permite manejar los archivos del Math Dataset v1.0 y seleccionar diferentes partes de él, ya sea por categoría o módulo para generar un `Dataset` de `Pytorch` que se usará para el entrenamiento. "
   ],
   "metadata": {}
  },
  {
   "cell_type": "code",
   "execution_count": 2,
   "source": [
    "mdsmgr = MathDatasetManager(\"C:\\\\Users\\\\jbardalesr\\\\Downloads\\\\mathematics_dataset-v1.0\\\\mathematics_dataset-v1.0\")"
   ],
   "outputs": [
    {
     "output_type": "stream",
     "name": "stdout",
     "text": [
      "initialized MultiFilesMathDataset with categories ['algebra', 'arithmetic', 'calculus', 'comparison', 'measurement', 'numbers', 'polynomials', 'probability'] and types ['train-easy', 'train-medium', 'train-hard', 'interpolate', 'extrapolate']\n"
     ]
    }
   ],
   "metadata": {}
  },
  {
   "cell_type": "markdown",
   "source": [
    "Verifica los tipos  de datos disponibles y los niveles de dificultades de los problemas `(difficulties + interpolate + extrapolate)`"
   ],
   "metadata": {}
  },
  {
   "cell_type": "code",
   "execution_count": 3,
   "source": [
    "print(\"types\", list(mdsmgr.get_types()))"
   ],
   "outputs": [
    {
     "output_type": "stream",
     "name": "stdout",
     "text": [
      "types ['train-easy', 'train-medium', 'train-hard', 'interpolate', 'extrapolate']\n"
     ]
    }
   ],
   "metadata": {}
  },
  {
   "cell_type": "markdown",
   "source": [
    "Verificando categorías disponibles"
   ],
   "metadata": {}
  },
  {
   "cell_type": "code",
   "execution_count": 4,
   "source": [
    "print(\"categories\", list(mdsmgr.get_categories()))"
   ],
   "outputs": [
    {
     "output_type": "stream",
     "name": "stdout",
     "text": [
      "categories ['algebra', 'arithmetic', 'calculus', 'comparison', 'measurement', 'numbers', 'polynomials', 'probability']\n"
     ]
    }
   ],
   "metadata": {}
  },
  {
   "cell_type": "markdown",
   "source": [
    "Verifica los módulos por cada categoria, en este ejemplo de `arithmetic`"
   ],
   "metadata": {}
  },
  {
   "cell_type": "code",
   "execution_count": 5,
   "source": [
    "print(\"modules of arithmetic\", mdsmgr.get_modules_for_category('algebra'))"
   ],
   "outputs": [
    {
     "output_type": "stream",
     "name": "stdout",
     "text": [
      "modules of arithmetic dict_keys(['linear_1d', 'linear_1d_composed', 'linear_2d', 'linear_2d_composed', 'polynomial_roots', 'polynomial_roots_composed', 'sequence_next_term', 'sequence_nth_term', 'polynomial_roots_big'])\n"
     ]
    }
   ],
   "metadata": {}
  },
  {
   "cell_type": "markdown",
   "source": [
    "## Inicialización"
   ],
   "metadata": {}
  },
  {
   "cell_type": "code",
   "execution_count": 6,
   "source": [
    "seed = 1\r\n",
    "torch.manual_seed(seed)\r\n",
    "device = torch.device(\"cpu\")\r\n",
    "print(\"device\", device)"
   ],
   "outputs": [
    {
     "output_type": "stream",
     "name": "stdout",
     "text": [
      "device cpu\n"
     ]
    }
   ],
   "metadata": {}
  },
  {
   "cell_type": "markdown",
   "source": [
    "## Entrenado con la categoría `algebra` modulo `linear_1d` modo `train-easy` "
   ],
   "metadata": {}
  },
  {
   "cell_type": "code",
   "execution_count": 7,
   "source": [
    "exp_name = \"math_ds_algebra_linear_1d_easy\"\r\n",
    "unique_id = \"2021-07-25_0900\""
   ],
   "outputs": [],
   "metadata": {}
  },
  {
   "cell_type": "markdown",
   "source": [
    "### Dataset para el entrenamiento"
   ],
   "metadata": {}
  },
  {
   "cell_type": "code",
   "execution_count": 8,
   "source": [
    "ds = mdsmgr.build_dataset_from_module(\r\n",
    "    'algebra', 'linear_1d', 'train-easy'\r\n",
    ")\r\n",
    "print(\"train-easy dataset size\", len(ds))"
   ],
   "outputs": [
    {
     "output_type": "stream",
     "name": "stdout",
     "text": [
      "train-easy dataset size 6666\n"
     ]
    },
    {
     "output_type": "stream",
     "name": "stderr",
     "text": [
      "C:\\Users\\jbardalesr\\AppData\\Roaming\\Python\\Python38\\site-packages\\pandas\\core\\frame.py:5034: SettingWithCopyWarning: \n",
      "A value is trying to be set on a copy of a slice from a DataFrame\n",
      "\n",
      "See the caveats in the documentation: https://pandas.pydata.org/pandas-docs/stable/user_guide/indexing.html#returning-a-view-versus-a-copy\n",
      "  return super().rename(\n"
     ]
    }
   ],
   "metadata": {}
  },
  {
   "cell_type": "markdown",
   "source": [
    "### Dataset de interpolación"
   ],
   "metadata": {}
  },
  {
   "cell_type": "code",
   "execution_count": 9,
   "source": [
    "ds_interpolate = mdsmgr.build_dataset_from_module(\r\n",
    "    'algebra', 'linear_1d', 'interpolate'\r\n",
    ")\r\n",
    "print(\"interpolate dataset size\", len(ds_interpolate))"
   ],
   "outputs": [
    {
     "output_type": "stream",
     "name": "stdout",
     "text": [
      "interpolate dataset size 100\n"
     ]
    }
   ],
   "metadata": {}
  },
  {
   "cell_type": "markdown",
   "source": [
    "### Creación del modelo Transformer\r\n"
   ],
   "metadata": {}
  },
  {
   "cell_type": "code",
   "execution_count": 10,
   "source": [
    "model = utils.build_transformer()\r\n"
   ],
   "outputs": [],
   "metadata": {}
  },
  {
   "cell_type": "markdown",
   "source": [
    "### Incializando un Optimizador básico\r\n"
   ],
   "metadata": {}
  },
  {
   "cell_type": "code",
   "execution_count": 11,
   "source": [
    "optimizer = optim.Adam(model.parameters(), lr=6e-6, betas=(0.9, 0.995), eps=1e-9)"
   ],
   "outputs": [],
   "metadata": {}
  },
  {
   "cell_type": "markdown",
   "source": [
    "### Creando Pytorch dataloaders"
   ],
   "metadata": {}
  },
  {
   "cell_type": "code",
   "execution_count": 12,
   "source": [
    "# Dividimos los datos en 90%/10% para los datos de entrenamiento y test y usamos los datos de interpolación para evaluar el test\r\n",
    "train_ds, val_ds = math_dataset.random_split_dataset(ds, split_rate=0.9)\r\n",
    "\r\n",
    "train_loader = data.DataLoader(\r\n",
    "    train_ds, batch_size=128, shuffle=True, num_workers=4,\r\n",
    "    collate_fn=question_answer_to_position_batch_collate_fn)\r\n",
    "\r\n",
    "val_loader = data.DataLoader(\r\n",
    "    val_ds, batch_size=128, shuffle=False, num_workers=4,\r\n",
    "    collate_fn=question_answer_to_position_batch_collate_fn)\r\n",
    "\r\n",
    "interpolate_loader = data.DataLoader(\r\n",
    "    ds_interpolate, batch_size=128, shuffle=False, num_workers=4,\r\n",
    "    collate_fn=question_answer_to_position_batch_collate_fn)\r\n"
   ],
   "outputs": [],
   "metadata": {}
  },
  {
   "cell_type": "code",
   "execution_count": 14,
   "source": [
    "model: Transformer = model.to(device)\r\n"
   ],
   "outputs": [],
   "metadata": {}
  },
  {
   "cell_type": "markdown",
   "source": [
    "## Entrenando el modelo nivel Easy"
   ],
   "metadata": {}
  },
  {
   "cell_type": "code",
   "execution_count": 15,
   "source": [
    "model_process.train(\r\n",
    "    name=exp_name +\"_\" + unique_id,\r\n",
    "    model=model, \r\n",
    "    training_data=train_loader, validation_data=val_loader, interpolate_data=interpolate_loader,\r\n",
    "    optimizer=optimizer, device=device,\r\n",
    "    epochs=9, tb=tb, log_interval=100,\r\n",
    ")"
   ],
   "outputs": [],
   "metadata": {}
  },
  {
   "cell_type": "markdown",
   "source": [
    "## Cargando los pesos de un modelo ya entrenado"
   ],
   "metadata": {}
  },
  {
   "cell_type": "code",
   "execution_count": 17,
   "source": [
    "_ = checkpoints.restore_checkpoint(\"./checkpoints/checkpoint_b37504_e7.pth\",\"\", model=model)"
   ],
   "outputs": [
    {
     "output_type": "stream",
     "name": "stdout",
     "text": [
      "Attempting to extract state from ./checkpoints/checkpoint_b37504_e7.pth...\n",
      "Loading model state_dict from state found in ./checkpoints/checkpoint_b37504_e7.pth\n"
     ]
    }
   ],
   "metadata": {}
  },
  {
   "cell_type": "markdown",
   "source": [
    "## Probando el modelo\r\n",
    "Le diremos que resuelva la ecuación lineal $4w - 2w = 4$ cuya repuesta es $w=2$ "
   ],
   "metadata": {}
  },
  {
   "cell_type": "code",
   "execution_count": 18,
   "source": [
    "model_process.predict_single(\"Solve 4*w - 2*w = 4 for w.\", model, device, n_best=1)\r\n"
   ],
   "outputs": [
    {
     "output_type": "stream",
     "name": "stderr",
     "text": [
      "..\\aten\\src\\ATen\\native\\BinaryOps.cpp:81: UserWarning: Integer division of tensors using div or / is deprecated, and in a future release div will perform true division as in Python 3. Use true_divide or floor_divide (// in Python) instead.\n"
     ]
    },
    {
     "output_type": "execute_result",
     "data": {
      "text/plain": [
       "[{'resp': '2', 'score': 0.0}]"
      ]
     },
     "metadata": {},
     "execution_count": 18
    }
   ],
   "metadata": {}
  },
  {
   "cell_type": "markdown",
   "source": [
    "## Grafica del Accuracy de Álgebra Linead 1-D\r\n",
    "La perdida y la exactitud están los archivos "
   ],
   "metadata": {}
  },
  {
   "cell_type": "code",
   "execution_count": 21,
   "source": [
    "import  matplotlib.pyplot as plt\r\n",
    "\r\n",
    "accuracy_training = [0.65000, 0.67600, 0.70093, 0.72166, 0.73875, 0.78318, 0.78318]\r\n",
    "accuracy_interpolation = [0.47162, 0.47007, 0.46725, 0.47441, 0.46276, 0.47253, 0.47253]\r\n",
    "epoch = [0, 1, 2, 3, 4, 8, 9]\r\n",
    "\r\n",
    "plt.title(\"Algebra Linear_1d Acurracy\")\r\n",
    "plt.plot(epoch, accuracy_training, label=\"Training\", linestyle='-', marker='x')\r\n",
    "plt.plot(epoch, accuracy_interpolation, label=\"Interpolation\", linestyle='-', marker='x')\r\n",
    "plt.xlabel(\"epoca\")\r\n",
    "plt.xticks(epoch)\r\n",
    "plt.ylabel(\"accuracy\")\r\n",
    "plt.legend()\r\n",
    "plt.show()"
   ],
   "outputs": [
    {
     "output_type": "display_data",
     "data": {
      "text/plain": [
       "<IPython.core.display.Javascript object>"
      ],
      "application/javascript": "/* Put everything inside the global mpl namespace */\n/* global mpl */\nwindow.mpl = {};\n\nmpl.get_websocket_type = function () {\n    if (typeof WebSocket !== 'undefined') {\n        return WebSocket;\n    } else if (typeof MozWebSocket !== 'undefined') {\n        return MozWebSocket;\n    } else {\n        alert(\n            'Your browser does not have WebSocket support. ' +\n                'Please try Chrome, Safari or Firefox ≥ 6. ' +\n                'Firefox 4 and 5 are also supported but you ' +\n                'have to enable WebSockets in about:config.'\n        );\n    }\n};\n\nmpl.figure = function (figure_id, websocket, ondownload, parent_element) {\n    this.id = figure_id;\n\n    this.ws = websocket;\n\n    this.supports_binary = this.ws.binaryType !== undefined;\n\n    if (!this.supports_binary) {\n        var warnings = document.getElementById('mpl-warnings');\n        if (warnings) {\n            warnings.style.display = 'block';\n            warnings.textContent =\n                'This browser does not support binary websocket messages. ' +\n                'Performance may be slow.';\n        }\n    }\n\n    this.imageObj = new Image();\n\n    this.context = undefined;\n    this.message = undefined;\n    this.canvas = undefined;\n    this.rubberband_canvas = undefined;\n    this.rubberband_context = undefined;\n    this.format_dropdown = undefined;\n\n    this.image_mode = 'full';\n\n    this.root = document.createElement('div');\n    this.root.setAttribute('style', 'display: inline-block');\n    this._root_extra_style(this.root);\n\n    parent_element.appendChild(this.root);\n\n    this._init_header(this);\n    this._init_canvas(this);\n    this._init_toolbar(this);\n\n    var fig = this;\n\n    this.waiting = false;\n\n    this.ws.onopen = function () {\n        fig.send_message('supports_binary', { value: fig.supports_binary });\n        fig.send_message('send_image_mode', {});\n        if (fig.ratio !== 1) {\n            fig.send_message('set_dpi_ratio', { dpi_ratio: fig.ratio });\n        }\n        fig.send_message('refresh', {});\n    };\n\n    this.imageObj.onload = function () {\n        if (fig.image_mode === 'full') {\n            // Full images could contain transparency (where diff images\n            // almost always do), so we need to clear the canvas so that\n            // there is no ghosting.\n            fig.context.clearRect(0, 0, fig.canvas.width, fig.canvas.height);\n        }\n        fig.context.drawImage(fig.imageObj, 0, 0);\n    };\n\n    this.imageObj.onunload = function () {\n        fig.ws.close();\n    };\n\n    this.ws.onmessage = this._make_on_message_function(this);\n\n    this.ondownload = ondownload;\n};\n\nmpl.figure.prototype._init_header = function () {\n    var titlebar = document.createElement('div');\n    titlebar.classList =\n        'ui-dialog-titlebar ui-widget-header ui-corner-all ui-helper-clearfix';\n    var titletext = document.createElement('div');\n    titletext.classList = 'ui-dialog-title';\n    titletext.setAttribute(\n        'style',\n        'width: 100%; text-align: center; padding: 3px;'\n    );\n    titlebar.appendChild(titletext);\n    this.root.appendChild(titlebar);\n    this.header = titletext;\n};\n\nmpl.figure.prototype._canvas_extra_style = function (_canvas_div) {};\n\nmpl.figure.prototype._root_extra_style = function (_canvas_div) {};\n\nmpl.figure.prototype._init_canvas = function () {\n    var fig = this;\n\n    var canvas_div = (this.canvas_div = document.createElement('div'));\n    canvas_div.setAttribute(\n        'style',\n        'border: 1px solid #ddd;' +\n            'box-sizing: content-box;' +\n            'clear: both;' +\n            'min-height: 1px;' +\n            'min-width: 1px;' +\n            'outline: 0;' +\n            'overflow: hidden;' +\n            'position: relative;' +\n            'resize: both;'\n    );\n\n    function on_keyboard_event_closure(name) {\n        return function (event) {\n            return fig.key_event(event, name);\n        };\n    }\n\n    canvas_div.addEventListener(\n        'keydown',\n        on_keyboard_event_closure('key_press')\n    );\n    canvas_div.addEventListener(\n        'keyup',\n        on_keyboard_event_closure('key_release')\n    );\n\n    this._canvas_extra_style(canvas_div);\n    this.root.appendChild(canvas_div);\n\n    var canvas = (this.canvas = document.createElement('canvas'));\n    canvas.classList.add('mpl-canvas');\n    canvas.setAttribute('style', 'box-sizing: content-box;');\n\n    this.context = canvas.getContext('2d');\n\n    var backingStore =\n        this.context.backingStorePixelRatio ||\n        this.context.webkitBackingStorePixelRatio ||\n        this.context.mozBackingStorePixelRatio ||\n        this.context.msBackingStorePixelRatio ||\n        this.context.oBackingStorePixelRatio ||\n        this.context.backingStorePixelRatio ||\n        1;\n\n    this.ratio = (window.devicePixelRatio || 1) / backingStore;\n\n    var rubberband_canvas = (this.rubberband_canvas = document.createElement(\n        'canvas'\n    ));\n    rubberband_canvas.setAttribute(\n        'style',\n        'box-sizing: content-box; position: absolute; left: 0; top: 0; z-index: 1;'\n    );\n\n    // Apply a ponyfill if ResizeObserver is not implemented by browser.\n    if (this.ResizeObserver === undefined) {\n        if (window.ResizeObserver !== undefined) {\n            this.ResizeObserver = window.ResizeObserver;\n        } else {\n            var obs = _JSXTOOLS_RESIZE_OBSERVER({});\n            this.ResizeObserver = obs.ResizeObserver;\n        }\n    }\n\n    this.resizeObserverInstance = new this.ResizeObserver(function (entries) {\n        var nentries = entries.length;\n        for (var i = 0; i < nentries; i++) {\n            var entry = entries[i];\n            var width, height;\n            if (entry.contentBoxSize) {\n                if (entry.contentBoxSize instanceof Array) {\n                    // Chrome 84 implements new version of spec.\n                    width = entry.contentBoxSize[0].inlineSize;\n                    height = entry.contentBoxSize[0].blockSize;\n                } else {\n                    // Firefox implements old version of spec.\n                    width = entry.contentBoxSize.inlineSize;\n                    height = entry.contentBoxSize.blockSize;\n                }\n            } else {\n                // Chrome <84 implements even older version of spec.\n                width = entry.contentRect.width;\n                height = entry.contentRect.height;\n            }\n\n            // Keep the size of the canvas and rubber band canvas in sync with\n            // the canvas container.\n            if (entry.devicePixelContentBoxSize) {\n                // Chrome 84 implements new version of spec.\n                canvas.setAttribute(\n                    'width',\n                    entry.devicePixelContentBoxSize[0].inlineSize\n                );\n                canvas.setAttribute(\n                    'height',\n                    entry.devicePixelContentBoxSize[0].blockSize\n                );\n            } else {\n                canvas.setAttribute('width', width * fig.ratio);\n                canvas.setAttribute('height', height * fig.ratio);\n            }\n            canvas.setAttribute(\n                'style',\n                'width: ' + width + 'px; height: ' + height + 'px;'\n            );\n\n            rubberband_canvas.setAttribute('width', width);\n            rubberband_canvas.setAttribute('height', height);\n\n            // And update the size in Python. We ignore the initial 0/0 size\n            // that occurs as the element is placed into the DOM, which should\n            // otherwise not happen due to the minimum size styling.\n            if (fig.ws.readyState == 1 && width != 0 && height != 0) {\n                fig.request_resize(width, height);\n            }\n        }\n    });\n    this.resizeObserverInstance.observe(canvas_div);\n\n    function on_mouse_event_closure(name) {\n        return function (event) {\n            return fig.mouse_event(event, name);\n        };\n    }\n\n    rubberband_canvas.addEventListener(\n        'mousedown',\n        on_mouse_event_closure('button_press')\n    );\n    rubberband_canvas.addEventListener(\n        'mouseup',\n        on_mouse_event_closure('button_release')\n    );\n    rubberband_canvas.addEventListener(\n        'dblclick',\n        on_mouse_event_closure('dblclick')\n    );\n    // Throttle sequential mouse events to 1 every 20ms.\n    rubberband_canvas.addEventListener(\n        'mousemove',\n        on_mouse_event_closure('motion_notify')\n    );\n\n    rubberband_canvas.addEventListener(\n        'mouseenter',\n        on_mouse_event_closure('figure_enter')\n    );\n    rubberband_canvas.addEventListener(\n        'mouseleave',\n        on_mouse_event_closure('figure_leave')\n    );\n\n    canvas_div.addEventListener('wheel', function (event) {\n        if (event.deltaY < 0) {\n            event.step = 1;\n        } else {\n            event.step = -1;\n        }\n        on_mouse_event_closure('scroll')(event);\n    });\n\n    canvas_div.appendChild(canvas);\n    canvas_div.appendChild(rubberband_canvas);\n\n    this.rubberband_context = rubberband_canvas.getContext('2d');\n    this.rubberband_context.strokeStyle = '#000000';\n\n    this._resize_canvas = function (width, height, forward) {\n        if (forward) {\n            canvas_div.style.width = width + 'px';\n            canvas_div.style.height = height + 'px';\n        }\n    };\n\n    // Disable right mouse context menu.\n    this.rubberband_canvas.addEventListener('contextmenu', function (_e) {\n        event.preventDefault();\n        return false;\n    });\n\n    function set_focus() {\n        canvas.focus();\n        canvas_div.focus();\n    }\n\n    window.setTimeout(set_focus, 100);\n};\n\nmpl.figure.prototype._init_toolbar = function () {\n    var fig = this;\n\n    var toolbar = document.createElement('div');\n    toolbar.classList = 'mpl-toolbar';\n    this.root.appendChild(toolbar);\n\n    function on_click_closure(name) {\n        return function (_event) {\n            return fig.toolbar_button_onclick(name);\n        };\n    }\n\n    function on_mouseover_closure(tooltip) {\n        return function (event) {\n            if (!event.currentTarget.disabled) {\n                return fig.toolbar_button_onmouseover(tooltip);\n            }\n        };\n    }\n\n    fig.buttons = {};\n    var buttonGroup = document.createElement('div');\n    buttonGroup.classList = 'mpl-button-group';\n    for (var toolbar_ind in mpl.toolbar_items) {\n        var name = mpl.toolbar_items[toolbar_ind][0];\n        var tooltip = mpl.toolbar_items[toolbar_ind][1];\n        var image = mpl.toolbar_items[toolbar_ind][2];\n        var method_name = mpl.toolbar_items[toolbar_ind][3];\n\n        if (!name) {\n            /* Instead of a spacer, we start a new button group. */\n            if (buttonGroup.hasChildNodes()) {\n                toolbar.appendChild(buttonGroup);\n            }\n            buttonGroup = document.createElement('div');\n            buttonGroup.classList = 'mpl-button-group';\n            continue;\n        }\n\n        var button = (fig.buttons[name] = document.createElement('button'));\n        button.classList = 'mpl-widget';\n        button.setAttribute('role', 'button');\n        button.setAttribute('aria-disabled', 'false');\n        button.addEventListener('click', on_click_closure(method_name));\n        button.addEventListener('mouseover', on_mouseover_closure(tooltip));\n\n        var icon_img = document.createElement('img');\n        icon_img.src = '_images/' + image + '.png';\n        icon_img.srcset = '_images/' + image + '_large.png 2x';\n        icon_img.alt = tooltip;\n        button.appendChild(icon_img);\n\n        buttonGroup.appendChild(button);\n    }\n\n    if (buttonGroup.hasChildNodes()) {\n        toolbar.appendChild(buttonGroup);\n    }\n\n    var fmt_picker = document.createElement('select');\n    fmt_picker.classList = 'mpl-widget';\n    toolbar.appendChild(fmt_picker);\n    this.format_dropdown = fmt_picker;\n\n    for (var ind in mpl.extensions) {\n        var fmt = mpl.extensions[ind];\n        var option = document.createElement('option');\n        option.selected = fmt === mpl.default_extension;\n        option.innerHTML = fmt;\n        fmt_picker.appendChild(option);\n    }\n\n    var status_bar = document.createElement('span');\n    status_bar.classList = 'mpl-message';\n    toolbar.appendChild(status_bar);\n    this.message = status_bar;\n};\n\nmpl.figure.prototype.request_resize = function (x_pixels, y_pixels) {\n    // Request matplotlib to resize the figure. Matplotlib will then trigger a resize in the client,\n    // which will in turn request a refresh of the image.\n    this.send_message('resize', { width: x_pixels, height: y_pixels });\n};\n\nmpl.figure.prototype.send_message = function (type, properties) {\n    properties['type'] = type;\n    properties['figure_id'] = this.id;\n    this.ws.send(JSON.stringify(properties));\n};\n\nmpl.figure.prototype.send_draw_message = function () {\n    if (!this.waiting) {\n        this.waiting = true;\n        this.ws.send(JSON.stringify({ type: 'draw', figure_id: this.id }));\n    }\n};\n\nmpl.figure.prototype.handle_save = function (fig, _msg) {\n    var format_dropdown = fig.format_dropdown;\n    var format = format_dropdown.options[format_dropdown.selectedIndex].value;\n    fig.ondownload(fig, format);\n};\n\nmpl.figure.prototype.handle_resize = function (fig, msg) {\n    var size = msg['size'];\n    if (size[0] !== fig.canvas.width || size[1] !== fig.canvas.height) {\n        fig._resize_canvas(size[0], size[1], msg['forward']);\n        fig.send_message('refresh', {});\n    }\n};\n\nmpl.figure.prototype.handle_rubberband = function (fig, msg) {\n    var x0 = msg['x0'] / fig.ratio;\n    var y0 = (fig.canvas.height - msg['y0']) / fig.ratio;\n    var x1 = msg['x1'] / fig.ratio;\n    var y1 = (fig.canvas.height - msg['y1']) / fig.ratio;\n    x0 = Math.floor(x0) + 0.5;\n    y0 = Math.floor(y0) + 0.5;\n    x1 = Math.floor(x1) + 0.5;\n    y1 = Math.floor(y1) + 0.5;\n    var min_x = Math.min(x0, x1);\n    var min_y = Math.min(y0, y1);\n    var width = Math.abs(x1 - x0);\n    var height = Math.abs(y1 - y0);\n\n    fig.rubberband_context.clearRect(\n        0,\n        0,\n        fig.canvas.width / fig.ratio,\n        fig.canvas.height / fig.ratio\n    );\n\n    fig.rubberband_context.strokeRect(min_x, min_y, width, height);\n};\n\nmpl.figure.prototype.handle_figure_label = function (fig, msg) {\n    // Updates the figure title.\n    fig.header.textContent = msg['label'];\n};\n\nmpl.figure.prototype.handle_cursor = function (fig, msg) {\n    var cursor = msg['cursor'];\n    switch (cursor) {\n        case 0:\n            cursor = 'pointer';\n            break;\n        case 1:\n            cursor = 'default';\n            break;\n        case 2:\n            cursor = 'crosshair';\n            break;\n        case 3:\n            cursor = 'move';\n            break;\n    }\n    fig.rubberband_canvas.style.cursor = cursor;\n};\n\nmpl.figure.prototype.handle_message = function (fig, msg) {\n    fig.message.textContent = msg['message'];\n};\n\nmpl.figure.prototype.handle_draw = function (fig, _msg) {\n    // Request the server to send over a new figure.\n    fig.send_draw_message();\n};\n\nmpl.figure.prototype.handle_image_mode = function (fig, msg) {\n    fig.image_mode = msg['mode'];\n};\n\nmpl.figure.prototype.handle_history_buttons = function (fig, msg) {\n    for (var key in msg) {\n        if (!(key in fig.buttons)) {\n            continue;\n        }\n        fig.buttons[key].disabled = !msg[key];\n        fig.buttons[key].setAttribute('aria-disabled', !msg[key]);\n    }\n};\n\nmpl.figure.prototype.handle_navigate_mode = function (fig, msg) {\n    if (msg['mode'] === 'PAN') {\n        fig.buttons['Pan'].classList.add('active');\n        fig.buttons['Zoom'].classList.remove('active');\n    } else if (msg['mode'] === 'ZOOM') {\n        fig.buttons['Pan'].classList.remove('active');\n        fig.buttons['Zoom'].classList.add('active');\n    } else {\n        fig.buttons['Pan'].classList.remove('active');\n        fig.buttons['Zoom'].classList.remove('active');\n    }\n};\n\nmpl.figure.prototype.updated_canvas_event = function () {\n    // Called whenever the canvas gets updated.\n    this.send_message('ack', {});\n};\n\n// A function to construct a web socket function for onmessage handling.\n// Called in the figure constructor.\nmpl.figure.prototype._make_on_message_function = function (fig) {\n    return function socket_on_message(evt) {\n        if (evt.data instanceof Blob) {\n            var img = evt.data;\n            if (img.type !== 'image/png') {\n                /* FIXME: We get \"Resource interpreted as Image but\n                 * transferred with MIME type text/plain:\" errors on\n                 * Chrome.  But how to set the MIME type?  It doesn't seem\n                 * to be part of the websocket stream */\n                img.type = 'image/png';\n            }\n\n            /* Free the memory for the previous frames */\n            if (fig.imageObj.src) {\n                (window.URL || window.webkitURL).revokeObjectURL(\n                    fig.imageObj.src\n                );\n            }\n\n            fig.imageObj.src = (window.URL || window.webkitURL).createObjectURL(\n                img\n            );\n            fig.updated_canvas_event();\n            fig.waiting = false;\n            return;\n        } else if (\n            typeof evt.data === 'string' &&\n            evt.data.slice(0, 21) === 'data:image/png;base64'\n        ) {\n            fig.imageObj.src = evt.data;\n            fig.updated_canvas_event();\n            fig.waiting = false;\n            return;\n        }\n\n        var msg = JSON.parse(evt.data);\n        var msg_type = msg['type'];\n\n        // Call the  \"handle_{type}\" callback, which takes\n        // the figure and JSON message as its only arguments.\n        try {\n            var callback = fig['handle_' + msg_type];\n        } catch (e) {\n            console.log(\n                \"No handler for the '\" + msg_type + \"' message type: \",\n                msg\n            );\n            return;\n        }\n\n        if (callback) {\n            try {\n                // console.log(\"Handling '\" + msg_type + \"' message: \", msg);\n                callback(fig, msg);\n            } catch (e) {\n                console.log(\n                    \"Exception inside the 'handler_\" + msg_type + \"' callback:\",\n                    e,\n                    e.stack,\n                    msg\n                );\n            }\n        }\n    };\n};\n\n// from http://stackoverflow.com/questions/1114465/getting-mouse-location-in-canvas\nmpl.findpos = function (e) {\n    //this section is from http://www.quirksmode.org/js/events_properties.html\n    var targ;\n    if (!e) {\n        e = window.event;\n    }\n    if (e.target) {\n        targ = e.target;\n    } else if (e.srcElement) {\n        targ = e.srcElement;\n    }\n    if (targ.nodeType === 3) {\n        // defeat Safari bug\n        targ = targ.parentNode;\n    }\n\n    // pageX,Y are the mouse positions relative to the document\n    var boundingRect = targ.getBoundingClientRect();\n    var x = e.pageX - (boundingRect.left + document.body.scrollLeft);\n    var y = e.pageY - (boundingRect.top + document.body.scrollTop);\n\n    return { x: x, y: y };\n};\n\n/*\n * return a copy of an object with only non-object keys\n * we need this to avoid circular references\n * http://stackoverflow.com/a/24161582/3208463\n */\nfunction simpleKeys(original) {\n    return Object.keys(original).reduce(function (obj, key) {\n        if (typeof original[key] !== 'object') {\n            obj[key] = original[key];\n        }\n        return obj;\n    }, {});\n}\n\nmpl.figure.prototype.mouse_event = function (event, name) {\n    var canvas_pos = mpl.findpos(event);\n\n    if (name === 'button_press') {\n        this.canvas.focus();\n        this.canvas_div.focus();\n    }\n\n    var x = canvas_pos.x * this.ratio;\n    var y = canvas_pos.y * this.ratio;\n\n    this.send_message(name, {\n        x: x,\n        y: y,\n        button: event.button,\n        step: event.step,\n        guiEvent: simpleKeys(event),\n    });\n\n    /* This prevents the web browser from automatically changing to\n     * the text insertion cursor when the button is pressed.  We want\n     * to control all of the cursor setting manually through the\n     * 'cursor' event from matplotlib */\n    event.preventDefault();\n    return false;\n};\n\nmpl.figure.prototype._key_event_extra = function (_event, _name) {\n    // Handle any extra behaviour associated with a key event\n};\n\nmpl.figure.prototype.key_event = function (event, name) {\n    // Prevent repeat events\n    if (name === 'key_press') {\n        if (event.key === this._key) {\n            return;\n        } else {\n            this._key = event.key;\n        }\n    }\n    if (name === 'key_release') {\n        this._key = null;\n    }\n\n    var value = '';\n    if (event.ctrlKey && event.key !== 'Control') {\n        value += 'ctrl+';\n    }\n    else if (event.altKey && event.key !== 'Alt') {\n        value += 'alt+';\n    }\n    else if (event.shiftKey && event.key !== 'Shift') {\n        value += 'shift+';\n    }\n\n    value += 'k' + event.key;\n\n    this._key_event_extra(event, name);\n\n    this.send_message(name, { key: value, guiEvent: simpleKeys(event) });\n    return false;\n};\n\nmpl.figure.prototype.toolbar_button_onclick = function (name) {\n    if (name === 'download') {\n        this.handle_save(this, null);\n    } else {\n        this.send_message('toolbar_button', { name: name });\n    }\n};\n\nmpl.figure.prototype.toolbar_button_onmouseover = function (tooltip) {\n    this.message.textContent = tooltip;\n};\n\n///////////////// REMAINING CONTENT GENERATED BY embed_js.py /////////////////\n// prettier-ignore\nvar _JSXTOOLS_RESIZE_OBSERVER=function(A){var t,i=new WeakMap,n=new WeakMap,a=new WeakMap,r=new WeakMap,o=new Set;function s(e){if(!(this instanceof s))throw new TypeError(\"Constructor requires 'new' operator\");i.set(this,e)}function h(){throw new TypeError(\"Function is not a constructor\")}function c(e,t,i,n){e=0 in arguments?Number(arguments[0]):0,t=1 in arguments?Number(arguments[1]):0,i=2 in arguments?Number(arguments[2]):0,n=3 in arguments?Number(arguments[3]):0,this.right=(this.x=this.left=e)+(this.width=i),this.bottom=(this.y=this.top=t)+(this.height=n),Object.freeze(this)}function d(){t=requestAnimationFrame(d);var s=new WeakMap,p=new Set;o.forEach((function(t){r.get(t).forEach((function(i){var r=t instanceof window.SVGElement,o=a.get(t),d=r?0:parseFloat(o.paddingTop),f=r?0:parseFloat(o.paddingRight),l=r?0:parseFloat(o.paddingBottom),u=r?0:parseFloat(o.paddingLeft),g=r?0:parseFloat(o.borderTopWidth),m=r?0:parseFloat(o.borderRightWidth),w=r?0:parseFloat(o.borderBottomWidth),b=u+f,F=d+l,v=(r?0:parseFloat(o.borderLeftWidth))+m,W=g+w,y=r?0:t.offsetHeight-W-t.clientHeight,E=r?0:t.offsetWidth-v-t.clientWidth,R=b+v,z=F+W,M=r?t.width:parseFloat(o.width)-R-E,O=r?t.height:parseFloat(o.height)-z-y;if(n.has(t)){var k=n.get(t);if(k[0]===M&&k[1]===O)return}n.set(t,[M,O]);var S=Object.create(h.prototype);S.target=t,S.contentRect=new c(u,d,M,O),s.has(i)||(s.set(i,[]),p.add(i)),s.get(i).push(S)}))})),p.forEach((function(e){i.get(e).call(e,s.get(e),e)}))}return s.prototype.observe=function(i){if(i instanceof window.Element){r.has(i)||(r.set(i,new Set),o.add(i),a.set(i,window.getComputedStyle(i)));var n=r.get(i);n.has(this)||n.add(this),cancelAnimationFrame(t),t=requestAnimationFrame(d)}},s.prototype.unobserve=function(i){if(i instanceof window.Element&&r.has(i)){var n=r.get(i);n.has(this)&&(n.delete(this),n.size||(r.delete(i),o.delete(i))),n.size||r.delete(i),o.size||cancelAnimationFrame(t)}},A.DOMRectReadOnly=c,A.ResizeObserver=s,A.ResizeObserverEntry=h,A}; // eslint-disable-line\nmpl.toolbar_items = [[\"Home\", \"Reset original view\", \"fa fa-home icon-home\", \"home\"], [\"Back\", \"Back to previous view\", \"fa fa-arrow-left icon-arrow-left\", \"back\"], [\"Forward\", \"Forward to next view\", \"fa fa-arrow-right icon-arrow-right\", \"forward\"], [\"\", \"\", \"\", \"\"], [\"Pan\", \"Left button pans, Right button zooms\\nx/y fixes axis, CTRL fixes aspect\", \"fa fa-arrows icon-move\", \"pan\"], [\"Zoom\", \"Zoom to rectangle\\nx/y fixes axis, CTRL fixes aspect\", \"fa fa-square-o icon-check-empty\", \"zoom\"], [\"\", \"\", \"\", \"\"], [\"Download\", \"Download plot\", \"fa fa-floppy-o icon-save\", \"download\"]];\n\nmpl.extensions = [\"eps\", \"jpeg\", \"pgf\", \"pdf\", \"png\", \"ps\", \"raw\", \"svg\", \"tif\"];\n\nmpl.default_extension = \"png\";/* global mpl */\n\nvar comm_websocket_adapter = function (comm) {\n    // Create a \"websocket\"-like object which calls the given IPython comm\n    // object with the appropriate methods. Currently this is a non binary\n    // socket, so there is still some room for performance tuning.\n    var ws = {};\n\n    ws.binaryType = comm.kernel.ws.binaryType;\n    ws.readyState = comm.kernel.ws.readyState;\n    function updateReadyState(_event) {\n        if (comm.kernel.ws) {\n            ws.readyState = comm.kernel.ws.readyState;\n        } else {\n            ws.readyState = 3; // Closed state.\n        }\n    }\n    comm.kernel.ws.addEventListener('open', updateReadyState);\n    comm.kernel.ws.addEventListener('close', updateReadyState);\n    comm.kernel.ws.addEventListener('error', updateReadyState);\n\n    ws.close = function () {\n        comm.close();\n    };\n    ws.send = function (m) {\n        //console.log('sending', m);\n        comm.send(m);\n    };\n    // Register the callback with on_msg.\n    comm.on_msg(function (msg) {\n        //console.log('receiving', msg['content']['data'], msg);\n        var data = msg['content']['data'];\n        if (data['blob'] !== undefined) {\n            data = {\n                data: new Blob(msg['buffers'], { type: data['blob'] }),\n            };\n        }\n        // Pass the mpl event to the overridden (by mpl) onmessage function.\n        ws.onmessage(data);\n    });\n    return ws;\n};\n\nmpl.mpl_figure_comm = function (comm, msg) {\n    // This is the function which gets called when the mpl process\n    // starts-up an IPython Comm through the \"matplotlib\" channel.\n\n    var id = msg.content.data.id;\n    // Get hold of the div created by the display call when the Comm\n    // socket was opened in Python.\n    var element = document.getElementById(id);\n    var ws_proxy = comm_websocket_adapter(comm);\n\n    function ondownload(figure, _format) {\n        window.open(figure.canvas.toDataURL());\n    }\n\n    var fig = new mpl.figure(id, ws_proxy, ondownload, element);\n\n    // Call onopen now - mpl needs it, as it is assuming we've passed it a real\n    // web socket which is closed, not our websocket->open comm proxy.\n    ws_proxy.onopen();\n\n    fig.parent_element = element;\n    fig.cell_info = mpl.find_output_cell(\"<div id='\" + id + \"'></div>\");\n    if (!fig.cell_info) {\n        console.error('Failed to find cell for figure', id, fig);\n        return;\n    }\n    fig.cell_info[0].output_area.element.on(\n        'cleared',\n        { fig: fig },\n        fig._remove_fig_handler\n    );\n};\n\nmpl.figure.prototype.handle_close = function (fig, msg) {\n    var width = fig.canvas.width / fig.ratio;\n    fig.cell_info[0].output_area.element.off(\n        'cleared',\n        fig._remove_fig_handler\n    );\n    fig.resizeObserverInstance.unobserve(fig.canvas_div);\n\n    // Update the output cell to use the data from the current canvas.\n    fig.push_to_output();\n    var dataURL = fig.canvas.toDataURL();\n    // Re-enable the keyboard manager in IPython - without this line, in FF,\n    // the notebook keyboard shortcuts fail.\n    IPython.keyboard_manager.enable();\n    fig.parent_element.innerHTML =\n        '<img src=\"' + dataURL + '\" width=\"' + width + '\">';\n    fig.close_ws(fig, msg);\n};\n\nmpl.figure.prototype.close_ws = function (fig, msg) {\n    fig.send_message('closing', msg);\n    // fig.ws.close()\n};\n\nmpl.figure.prototype.push_to_output = function (_remove_interactive) {\n    // Turn the data on the canvas into data in the output cell.\n    var width = this.canvas.width / this.ratio;\n    var dataURL = this.canvas.toDataURL();\n    this.cell_info[1]['text/html'] =\n        '<img src=\"' + dataURL + '\" width=\"' + width + '\">';\n};\n\nmpl.figure.prototype.updated_canvas_event = function () {\n    // Tell IPython that the notebook contents must change.\n    IPython.notebook.set_dirty(true);\n    this.send_message('ack', {});\n    var fig = this;\n    // Wait a second, then push the new image to the DOM so\n    // that it is saved nicely (might be nice to debounce this).\n    setTimeout(function () {\n        fig.push_to_output();\n    }, 1000);\n};\n\nmpl.figure.prototype._init_toolbar = function () {\n    var fig = this;\n\n    var toolbar = document.createElement('div');\n    toolbar.classList = 'btn-toolbar';\n    this.root.appendChild(toolbar);\n\n    function on_click_closure(name) {\n        return function (_event) {\n            return fig.toolbar_button_onclick(name);\n        };\n    }\n\n    function on_mouseover_closure(tooltip) {\n        return function (event) {\n            if (!event.currentTarget.disabled) {\n                return fig.toolbar_button_onmouseover(tooltip);\n            }\n        };\n    }\n\n    fig.buttons = {};\n    var buttonGroup = document.createElement('div');\n    buttonGroup.classList = 'btn-group';\n    var button;\n    for (var toolbar_ind in mpl.toolbar_items) {\n        var name = mpl.toolbar_items[toolbar_ind][0];\n        var tooltip = mpl.toolbar_items[toolbar_ind][1];\n        var image = mpl.toolbar_items[toolbar_ind][2];\n        var method_name = mpl.toolbar_items[toolbar_ind][3];\n\n        if (!name) {\n            /* Instead of a spacer, we start a new button group. */\n            if (buttonGroup.hasChildNodes()) {\n                toolbar.appendChild(buttonGroup);\n            }\n            buttonGroup = document.createElement('div');\n            buttonGroup.classList = 'btn-group';\n            continue;\n        }\n\n        button = fig.buttons[name] = document.createElement('button');\n        button.classList = 'btn btn-default';\n        button.href = '#';\n        button.title = name;\n        button.innerHTML = '<i class=\"fa ' + image + ' fa-lg\"></i>';\n        button.addEventListener('click', on_click_closure(method_name));\n        button.addEventListener('mouseover', on_mouseover_closure(tooltip));\n        buttonGroup.appendChild(button);\n    }\n\n    if (buttonGroup.hasChildNodes()) {\n        toolbar.appendChild(buttonGroup);\n    }\n\n    // Add the status bar.\n    var status_bar = document.createElement('span');\n    status_bar.classList = 'mpl-message pull-right';\n    toolbar.appendChild(status_bar);\n    this.message = status_bar;\n\n    // Add the close button to the window.\n    var buttongrp = document.createElement('div');\n    buttongrp.classList = 'btn-group inline pull-right';\n    button = document.createElement('button');\n    button.classList = 'btn btn-mini btn-primary';\n    button.href = '#';\n    button.title = 'Stop Interaction';\n    button.innerHTML = '<i class=\"fa fa-power-off icon-remove icon-large\"></i>';\n    button.addEventListener('click', function (_evt) {\n        fig.handle_close(fig, {});\n    });\n    button.addEventListener(\n        'mouseover',\n        on_mouseover_closure('Stop Interaction')\n    );\n    buttongrp.appendChild(button);\n    var titlebar = this.root.querySelector('.ui-dialog-titlebar');\n    titlebar.insertBefore(buttongrp, titlebar.firstChild);\n};\n\nmpl.figure.prototype._remove_fig_handler = function (event) {\n    var fig = event.data.fig;\n    if (event.target !== this) {\n        // Ignore bubbled events from children.\n        return;\n    }\n    fig.close_ws(fig, {});\n};\n\nmpl.figure.prototype._root_extra_style = function (el) {\n    el.style.boxSizing = 'content-box'; // override notebook setting of border-box.\n};\n\nmpl.figure.prototype._canvas_extra_style = function (el) {\n    // this is important to make the div 'focusable\n    el.setAttribute('tabindex', 0);\n    // reach out to IPython and tell the keyboard manager to turn it's self\n    // off when our div gets focus\n\n    // location in version 3\n    if (IPython.notebook.keyboard_manager) {\n        IPython.notebook.keyboard_manager.register_events(el);\n    } else {\n        // location in version 2\n        IPython.keyboard_manager.register_events(el);\n    }\n};\n\nmpl.figure.prototype._key_event_extra = function (event, _name) {\n    var manager = IPython.notebook.keyboard_manager;\n    if (!manager) {\n        manager = IPython.keyboard_manager;\n    }\n\n    // Check for shift+enter\n    if (event.shiftKey && event.which === 13) {\n        this.canvas_div.blur();\n        // select the cell after this one\n        var index = IPython.notebook.find_cell_index(this.cell_info[0]);\n        IPython.notebook.select(index + 1);\n    }\n};\n\nmpl.figure.prototype.handle_save = function (fig, _msg) {\n    fig.ondownload(fig, null);\n};\n\nmpl.find_output_cell = function (html_output) {\n    // Return the cell and output element which can be found *uniquely* in the notebook.\n    // Note - this is a bit hacky, but it is done because the \"notebook_saving.Notebook\"\n    // IPython event is triggered only after the cells have been serialised, which for\n    // our purposes (turning an active figure into a static one), is too late.\n    var cells = IPython.notebook.get_cells();\n    var ncells = cells.length;\n    for (var i = 0; i < ncells; i++) {\n        var cell = cells[i];\n        if (cell.cell_type === 'code') {\n            for (var j = 0; j < cell.output_area.outputs.length; j++) {\n                var data = cell.output_area.outputs[j];\n                if (data.data) {\n                    // IPython >= 3 moved mimebundle to data attribute of output\n                    data = data.data;\n                }\n                if (data['text/html'] === html_output) {\n                    return [cell, data, j];\n                }\n            }\n        }\n    }\n};\n\n// Register the function which deals with the matplotlib target/channel.\n// The kernel may be null if the page has been refreshed.\nif (IPython.notebook.kernel !== null) {\n    IPython.notebook.kernel.comm_manager.register_target(\n        'matplotlib',\n        mpl.mpl_figure_comm\n    );\n}\n"
     },
     "metadata": {}
    },
    {
     "output_type": "display_data",
     "data": {
      "text/plain": [
       "<IPython.core.display.HTML object>"
      ],
      "text/html": [
       "<div id='77e2ae95-3051-464d-b05a-6465d38730ce'></div>"
      ]
     },
     "metadata": {}
    }
   ],
   "metadata": {}
  },
  {
   "cell_type": "markdown",
   "source": [
    "![image.png](data:image/png;base64,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)"
   ],
   "metadata": {}
  },
  {
   "cell_type": "markdown",
   "source": [
    "## Gráfica de la pérdida de Álgebra Linead 1-D"
   ],
   "metadata": {}
  },
  {
   "cell_type": "code",
   "execution_count": null,
   "source": [
    "import  matplotlib.pyplot as plt\r\n",
    "\r\n",
    "loss_training = [1.0515344203820651, 0.9287042330397685, 0.8329559214935575, 0.7666831075142432,  0.7154526222560421]\r\n",
    "loss_interpolation = [3.252589337567967, 3.5610522704500682, 3.6481729498539393, 3.847236221501331, 3.9576691305870875]\r\n",
    "epoch = [0, 1, 2, 3, 4]\r\n",
    "\r\n",
    "plt.title(\"Algebra Linear_1d Loss\")\r\n",
    "plt.plot(epoch, loss_training, label=\"Training\", linestyle='-', marker='x')\r\n",
    "plt.plot(epoch, loss_interpolation, label=\"Interpolation\", linestyle='-', marker='x')\r\n",
    "plt.xlabel(\"epoca\")\r\n",
    "plt.xticks(range(0, 5))\r\n",
    "plt.ylabel(\"loss\")\r\n",
    "plt.legend()\r\n",
    "plt.show()"
   ],
   "outputs": [],
   "metadata": {}
  },
  {
   "cell_type": "markdown",
   "source": [
    "![image.png](data:image/png;base64,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)"
   ],
   "metadata": {}
  },
  {
   "cell_type": "markdown",
   "source": [
    "Nota: por problemas con la versión de MatplotLib no se pudo poner la imagen generada por esta librería, sino una imagen obtenida del GoogleColab con el mismo conjunto de entrenamiento"
   ],
   "metadata": {}
  }
 ],
 "metadata": {
  "orig_nbformat": 4,
  "language_info": {
   "name": "python",
   "version": "3.8.10",
   "mimetype": "text/x-python",
   "codemirror_mode": {
    "name": "ipython",
    "version": 3
   },
   "pygments_lexer": "ipython3",
   "nbconvert_exporter": "python",
   "file_extension": ".py"
  },
  "kernelspec": {
   "name": "python3",
   "display_name": "Python 3.8.10 64-bit ('base': conda)"
  },
  "interpreter": {
   "hash": "022be8d7a8a777b4add8226f71f397ce6c85621aca418c778919691fdf017689"
  }
 },
 "nbformat": 4,
 "nbformat_minor": 2
}