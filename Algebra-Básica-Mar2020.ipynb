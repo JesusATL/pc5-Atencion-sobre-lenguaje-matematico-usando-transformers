{
  "nbformat": 4,
  "nbformat_minor": 0,
  "metadata": {
    "colab": {
      "name": "Algebra.ipynb",
      "provenance": [],
      "collapsed_sections": [],
      "include_colab_link": true
    },
    "kernelspec": {
      "display_name": "Python 3",
      "name": "python3"
    },
    "accelerator": "GPU"
  },
  "cells": [
    {
      "cell_type": "markdown",
      "metadata": {
        "id": "view-in-github",
        "colab_type": "text"
      },
      "source": [
        "<a href=\"https://colab.research.google.com/github/JesusATL/pc5-Atencion-sobre-lenguaje-matematico-usando-transformers/blob/main/Algebra-B%C3%A1sica-Mar2020.ipynb\" target=\"_parent\"><img src=\"https://colab.research.google.com/assets/colab-badge.svg\" alt=\"Open In Colab\"/></a>"
      ]
    },
    {
      "cell_type": "markdown",
      "metadata": {
        "id": "sFWXVOFEWi6A"
      },
      "source": [
        "En el presente cuaderno se prueba algunas predicciones a partir del repositorio https://github.com/andrewschreiber/hs-math-nlp/, en su rama master en la fecha marzo del 2020, para asegurar el buen funcionamiento de algunos cuadernos de referencia en el repositorio."
      ]
    },
    {
      "cell_type": "markdown",
      "metadata": {
        "id": "NQAocVJ0XDOf"
      },
      "source": [
        "### Instalamos el requirements.txt"
      ]
    },
    {
      "cell_type": "code",
      "metadata": {
        "id": "-v-e6qIktU58"
      },
      "source": [
        "!pip install absl-py==0.9.0\n",
        "!pip install astroid==2.4.1\n",
        "!pip install cachetools==4.1.0\n",
        "!pip install certifi==2020.4.5.1\n",
        "!pip install chardet==3.0.4\n",
        "!pip install future==0.18.2\n",
        "!pip install google-api-core==1.17.0\n",
        "!pip install google-auth==1.16.0\n",
        "!pip install google-auth-oauthlib==0.4.1\n",
        "!pip install google-cloud-core==1.3.0\n",
        "!pip install google-cloud-storage==1.28.1\n",
        "!pip install google-resumable-media==0.5.0\n",
        "!pip install googleapis-common-protos==1.51.0\n",
        "!pip install grpcio==1.29.0\n",
        "!pip install idna==2.9\n",
        "!pip install importlib-metadata==1.6.0\n",
        "!pip install isort==4.3.21\n",
        "!pip install lazy-object-proxy==1.4.3\n",
        "!pip install Markdown==3.2.2\n",
        "!pip install mccabe==0.6.1\n",
        "!pip install numpy==1.18.4\n",
        "!pip install oauthlib==3.1.0\n",
        "!pip install pandas==1.0.3\n",
        "!pip install protobuf==3.12.2\n",
        "!pip install pyasn1==0.4.8\n",
        "!pip install pyasn1-modules==0.2.8\n",
        "!pip install pylint==2.5.2\n",
        "!pip install python-dateutil==2.8.1\n",
        "!pip install pytz==2020.1\n",
        "!pip install requests==2.23.0\n",
        "!pip install requests-oauthlib==1.3.0\n",
        "!pip install rsa==4.0\n",
        "!pip install six==1.15.0\n",
        "!pip install tensorboard==2.2.2\n",
        "!pip install tensorboard-plugin-wit==1.6.0.post3\n",
        "!pip install tensorboardX==2.0\n",
        "!pip install toml==0.10.0\n",
        "!pip install torch==1.4.0\n",
        "!pip install tqdm==4.46.0\n",
        "!pip install typed-ast==1.4.1\n",
        "!pip install urllib3==1.25.9\n",
        "!pip install Werkzeug==1.0.1\n",
        "!pip install wrapt==1.11.2\n",
        "!pip install zipp==3.1.0"
      ],
      "execution_count": null,
      "outputs": []
    },
    {
      "cell_type": "code",
      "metadata": {
        "id": "7YKzjKoZtmp_",
        "colab": {
          "base_uri": "https://localhost:8080/"
        },
        "outputId": "80b9a8e3-7400-47a4-af9e-80187e755de0"
      },
      "source": [
        "from google.colab import drive\n",
        "drive.mount('/content/drive')"
      ],
      "execution_count": null,
      "outputs": [
        {
          "output_type": "stream",
          "text": [
            "Drive already mounted at /content/drive; to attempt to forcibly remount, call drive.mount(\"/content/drive\", force_remount=True).\n"
          ],
          "name": "stdout"
        }
      ]
    },
    {
      "cell_type": "markdown",
      "metadata": {
        "id": "0dhtn7x0XJRz"
      },
      "source": [
        "### Restauramos el repositorio en Marzo del 2020"
      ]
    },
    {
      "cell_type": "code",
      "metadata": {
        "colab": {
          "base_uri": "https://localhost:8080/"
        },
        "id": "07HhfAPl_ago",
        "outputId": "ccd57e88-0975-4ffc-d670-e51b4937920e"
      },
      "source": [
        "!git checkout -b mar2020 f8170b36fbd2392baa1e8f41d0a0d06efdd6e0e2"
      ],
      "execution_count": null,
      "outputs": [
        {
          "output_type": "stream",
          "text": [
            "fatal: A branch named 'mar2020' already exists.\n"
          ],
          "name": "stdout"
        }
      ]
    },
    {
      "cell_type": "markdown",
      "metadata": {
        "id": "wMewoHdvXhHp"
      },
      "source": [
        "### Nos movemos a la carpeta del repositorio"
      ]
    },
    {
      "cell_type": "code",
      "metadata": {
        "id": "9PrdqfJBvhAr"
      },
      "source": [
        "import os\n",
        "os.chdir('/content/drive/MyDrive/Colab Notebooks/transformer/hs-math-nlp')"
      ],
      "execution_count": null,
      "outputs": []
    },
    {
      "cell_type": "markdown",
      "metadata": {
        "id": "Mjop_bLNXmS4"
      },
      "source": [
        "### Importamos las librerías necesarias"
      ]
    },
    {
      "cell_type": "code",
      "metadata": {
        "colab": {
          "base_uri": "https://localhost:8080/"
        },
        "id": "bH31yElBB9Aw",
        "outputId": "7b856063-ca4c-4ae8-d580-018befc723fa"
      },
      "source": [
        "import math\n",
        "import numpy as np\n",
        "import torch\n",
        "from torch.utils import data\n",
        "import torch.optim as optim\n",
        "import torch.nn.functional as F\n",
        "from tensorboard_utils import Tensorboard\n",
        "\n",
        "from math_dataset import (\n",
        "    LazyFileMathDataset,\n",
        "    MathDatasetManager,\n",
        "    question_answer_to_position_batch_collate_fn\n",
        ")\n",
        "\n",
        "import model_process\n",
        "import utils\n",
        "import checkpoints\n",
        "\n",
        "from tensorboard_utils import Tensorboard\n",
        "from tensorboard_utils import tensorboard_event_accumulator\n",
        "\n",
        "import matplotlib\n",
        "import numpy as np\n",
        "import matplotlib.pyplot as plt\n",
        "%matplotlib notebook  \n",
        "\n",
        "print(\"Torch Version\", torch.__version__)\n",
        "\n",
        "%reload_ext autoreload\n",
        "%autoreload 2"
      ],
      "execution_count": null,
      "outputs": [
        {
          "output_type": "stream",
          "text": [
            "Torch Version 1.4.0\n"
          ],
          "name": "stdout"
        }
      ]
    },
    {
      "cell_type": "code",
      "metadata": {
        "colab": {
          "base_uri": "https://localhost:8080/"
        },
        "id": "T9tjksNpCDOe",
        "outputId": "4dd636ad-de18-4be7-c7f8-c70ea2379960"
      },
      "source": [
        "device = torch.device(\"cuda\")\n",
        "print(\"device\", device)"
      ],
      "execution_count": null,
      "outputs": [
        {
          "output_type": "stream",
          "text": [
            "device cuda\n"
          ],
          "name": "stdout"
        }
      ]
    },
    {
      "cell_type": "markdown",
      "metadata": {
        "id": "FXfPMtxnXvko"
      },
      "source": [
        "### Observamos los modulos con los que se puede trabajar "
      ]
    },
    {
      "cell_type": "code",
      "metadata": {
        "colab": {
          "base_uri": "https://localhost:8080/"
        },
        "id": "M4goiVdZCIkW",
        "outputId": "b9bc90e3-36d8-40cc-af95-d0d0c5f8c8ed"
      },
      "source": [
        "mdsmgr = MathDatasetManager(\"/content/drive/MyDrive/Colab Notebooks/transformer/mathematics_dataset-v1.0\")"
      ],
      "execution_count": null,
      "outputs": [
        {
          "output_type": "stream",
          "text": [
            "initialized MultiFilesMathDataset with categories ['numbers', 'polynomials', 'comparison', 'probability', 'algebra', 'arithmetic', 'measurement', 'calculus'] and types ['train-easy', 'train-medium', 'train-hard', 'interpolate', 'extrapolate']\n"
          ],
          "name": "stdout"
        }
      ]
    },
    {
      "cell_type": "code",
      "metadata": {
        "id": "UxxhpH98CKfl"
      },
      "source": [
        "model_filepath = \"/content/drive/MyDrive/Colab Notebooks/transformer/hs-math-nlp/checkpoints/checkpoint_felipe.pth\""
      ],
      "execution_count": null,
      "outputs": []
    },
    {
      "cell_type": "code",
      "metadata": {
        "colab": {
          "base_uri": "https://localhost:8080/"
        },
        "id": "gD3c1nVEDESc",
        "outputId": "d003c97b-257f-4be2-bb66-119f6c9af152"
      },
      "source": [
        "print(\"tipos\", list(mdsmgr.get_types()))"
      ],
      "execution_count": null,
      "outputs": [
        {
          "output_type": "stream",
          "text": [
            "types ['train-easy', 'train-medium', 'train-hard', 'interpolate', 'extrapolate']\n"
          ],
          "name": "stdout"
        }
      ]
    },
    {
      "cell_type": "code",
      "metadata": {
        "colab": {
          "base_uri": "https://localhost:8080/"
        },
        "id": "tnyPqHIwES5x",
        "outputId": "97bccdc9-be3b-4de8-f38c-abe2020480c5"
      },
      "source": [
        "print(\"categorias\", list(mdsmgr.get_categories()))"
      ],
      "execution_count": null,
      "outputs": [
        {
          "output_type": "stream",
          "text": [
            "categories ['numbers', 'polynomials', 'comparison', 'probability', 'algebra', 'arithmetic', 'measurement', 'calculus']\n"
          ],
          "name": "stdout"
        }
      ]
    },
    {
      "cell_type": "code",
      "metadata": {
        "colab": {
          "base_uri": "https://localhost:8080/"
        },
        "id": "VmERAV-8FCLc",
        "outputId": "06f49dd5-4217-4399-f2be-6418a37c9c62"
      },
      "source": [
        "print(\"modulos de aritmética\", mdsmgr.get_modules_for_category('arithmetic'))"
      ],
      "execution_count": null,
      "outputs": [
        {
          "output_type": "stream",
          "text": [
            "modules of arithmetic dict_keys(['mul', 'add_or_sub_in_base', 'mixed', 'mul_div_multiple', 'add_sub_multiple', 'add_or_sub', 'simplify_surd', 'nearest_integer_root', 'div', 'add_or_sub(1)', 'mul_div_multiple_longer', 'add_or_sub_big', 'add_sub_multiple_longer', 'div_big', 'mixed_longer', 'mul_big'])\n"
          ],
          "name": "stdout"
        }
      ]
    },
    {
      "cell_type": "code",
      "metadata": {
        "colab": {
          "base_uri": "https://localhost:8080/"
        },
        "id": "KKmAyw0BFHyD",
        "outputId": "6ada61c5-7a80-4504-98f9-d67edb4a3ef3"
      },
      "source": [
        "ds = mdsmgr.build_dataset_from_module('arithmetic', 'add_or_sub', 'train-easy')\n",
        "print(\"tamaño\", len(ds))"
      ],
      "execution_count": null,
      "outputs": [
        {
          "output_type": "stream",
          "text": [
            "size 666666\n"
          ],
          "name": "stdout"
        },
        {
          "output_type": "stream",
          "text": [
            "/usr/local/lib/python3.7/dist-packages/pandas/core/frame.py:4133: SettingWithCopyWarning: \n",
            "A value is trying to be set on a copy of a slice from a DataFrame\n",
            "\n",
            "See the caveats in the documentation: https://pandas.pydata.org/pandas-docs/stable/user_guide/indexing.html#returning-a-view-versus-a-copy\n",
            "  errors=errors,\n"
          ],
          "name": "stderr"
        }
      ]
    },
    {
      "cell_type": "code",
      "metadata": {
        "colab": {
          "base_uri": "https://localhost:8080/"
        },
        "id": "2Nrvl0evFKg8",
        "outputId": "f48ce1db-a493-4d5f-b592-b19ed8d3f356"
      },
      "source": [
        "ds = mdsmgr.build_dataset_from_module('arithmetic', 'add_or_sub', 'train-easy', max_elements=1000)\n",
        "print(\"tamaño\", len(ds))"
      ],
      "execution_count": null,
      "outputs": [
        {
          "output_type": "stream",
          "text": [
            "size 1000\n"
          ],
          "name": "stdout"
        },
        {
          "output_type": "stream",
          "text": [
            "/usr/local/lib/python3.7/dist-packages/pandas/core/frame.py:4133: SettingWithCopyWarning: \n",
            "A value is trying to be set on a copy of a slice from a DataFrame\n",
            "\n",
            "See the caveats in the documentation: https://pandas.pydata.org/pandas-docs/stable/user_guide/indexing.html#returning-a-view-versus-a-copy\n",
            "  errors=errors,\n"
          ],
          "name": "stderr"
        }
      ]
    },
    {
      "cell_type": "code",
      "metadata": {
        "colab": {
          "base_uri": "https://localhost:8080/"
        },
        "id": "wlKNDNtcFNWQ",
        "outputId": "9cbdcd03-b897-467b-ae0c-9373f7d4e7c4"
      },
      "source": [
        "ds = mdsmgr.build_dataset_from_modules('arithmetic', ['add_or_sub', 'add_sub_multiple'], 'train-easy')\n",
        "print(\"tamaño\", len(ds))"
      ],
      "execution_count": null,
      "outputs": [
        {
          "output_type": "stream",
          "text": [
            "/usr/local/lib/python3.7/dist-packages/pandas/core/frame.py:4133: SettingWithCopyWarning: \n",
            "A value is trying to be set on a copy of a slice from a DataFrame\n",
            "\n",
            "See the caveats in the documentation: https://pandas.pydata.org/pandas-docs/stable/user_guide/indexing.html#returning-a-view-versus-a-copy\n",
            "  errors=errors,\n"
          ],
          "name": "stderr"
        },
        {
          "output_type": "stream",
          "text": [
            "size 1333332\n"
          ],
          "name": "stdout"
        }
      ]
    },
    {
      "cell_type": "code",
      "metadata": {
        "colab": {
          "base_uri": "https://localhost:8080/"
        },
        "id": "R9klKzZvFT6K",
        "outputId": "06460b4e-0476-4561-d308-da28ab1fffe6"
      },
      "source": [
        "ds = mdsmgr.build_dataset_from_category('arithmetic', 'train-easy')\n",
        "print(\"tamaño\", len(ds))"
      ],
      "execution_count": null,
      "outputs": [
        {
          "output_type": "stream",
          "text": [
            "adding category arithmetic/../train-easy\n",
            "attempting to add module arithmetic/mul/train-easy\n"
          ],
          "name": "stdout"
        },
        {
          "output_type": "stream",
          "text": [
            "/usr/local/lib/python3.7/dist-packages/pandas/core/frame.py:4133: SettingWithCopyWarning: \n",
            "A value is trying to be set on a copy of a slice from a DataFrame\n",
            "\n",
            "See the caveats in the documentation: https://pandas.pydata.org/pandas-docs/stable/user_guide/indexing.html#returning-a-view-versus-a-copy\n",
            "  errors=errors,\n"
          ],
          "name": "stderr"
        },
        {
          "output_type": "stream",
          "text": [
            "added module arithmetic/mul/train-easy\n",
            "attempting to add module arithmetic/add_or_sub_in_base/train-easy\n",
            "added module arithmetic/add_or_sub_in_base/train-easy\n",
            "attempting to add module arithmetic/mixed/train-easy\n",
            "added module arithmetic/mixed/train-easy\n",
            "attempting to add module arithmetic/mul_div_multiple/train-easy\n",
            "added module arithmetic/mul_div_multiple/train-easy\n",
            "attempting to add module arithmetic/add_sub_multiple/train-easy\n",
            "added module arithmetic/add_sub_multiple/train-easy\n",
            "attempting to add module arithmetic/add_or_sub/train-easy\n",
            "added module arithmetic/add_or_sub/train-easy\n",
            "attempting to add module arithmetic/simplify_surd/train-easy\n",
            "added module arithmetic/simplify_surd/train-easy\n",
            "attempting to add module arithmetic/nearest_integer_root/train-easy\n",
            "added module arithmetic/nearest_integer_root/train-easy\n",
            "attempting to add module arithmetic/div/train-easy\n",
            "added module arithmetic/div/train-easy\n",
            "size 5999994\n"
          ],
          "name": "stdout"
        }
      ]
    },
    {
      "cell_type": "code",
      "metadata": {
        "colab": {
          "base_uri": "https://localhost:8080/"
        },
        "id": "w2EqsPcOFaxS",
        "outputId": "6306ff68-bf21-4498-b01a-cb6edacdc4b4"
      },
      "source": [
        "ds = mdsmgr.build_dataset_from_categories(['arithmetic', 'polynomials'], 'train-easy')\n",
        "print(\"tamaño\", len(ds))"
      ],
      "execution_count": null,
      "outputs": [
        {
          "output_type": "stream",
          "text": [
            "adding category.. arithmetic/../train-easy\n",
            "attempting to add module arithmetic/mul/train-easy\n",
            "added module arithmetic/mul/train-easy\n",
            "attempting to add module arithmetic/add_or_sub_in_base/train-easy\n",
            "added module arithmetic/add_or_sub_in_base/train-easy\n",
            "attempting to add module arithmetic/mixed/train-easy\n",
            "added module arithmetic/mixed/train-easy\n",
            "attempting to add module arithmetic/mul_div_multiple/train-easy\n",
            "added module arithmetic/mul_div_multiple/train-easy\n",
            "attempting to add module arithmetic/add_sub_multiple/train-easy\n",
            "added module arithmetic/add_sub_multiple/train-easy\n",
            "attempting to add module arithmetic/add_or_sub/train-easy\n"
          ],
          "name": "stdout"
        },
        {
          "output_type": "stream",
          "text": [
            "/usr/local/lib/python3.7/dist-packages/pandas/core/frame.py:4133: SettingWithCopyWarning: \n",
            "A value is trying to be set on a copy of a slice from a DataFrame\n",
            "\n",
            "See the caveats in the documentation: https://pandas.pydata.org/pandas-docs/stable/user_guide/indexing.html#returning-a-view-versus-a-copy\n",
            "  errors=errors,\n"
          ],
          "name": "stderr"
        },
        {
          "output_type": "stream",
          "text": [
            "added module arithmetic/add_or_sub/train-easy\n",
            "attempting to add module arithmetic/simplify_surd/train-easy\n",
            "added module arithmetic/simplify_surd/train-easy\n",
            "attempting to add module arithmetic/nearest_integer_root/train-easy\n",
            "added module arithmetic/nearest_integer_root/train-easy\n",
            "attempting to add module arithmetic/div/train-easy\n",
            "added module arithmetic/div/train-easy\n",
            "adding category.. polynomials/../train-easy\n",
            "attempting to add module polynomials/collect/train-easy\n",
            "added module polynomials/collect/train-easy\n",
            "attempting to add module polynomials/evaluate/train-easy\n",
            "added module polynomials/evaluate/train-easy\n",
            "attempting to add module polynomials/add/train-easy\n",
            "added module polynomials/add/train-easy\n",
            "attempting to add module polynomials/evaluate_composed/train-easy\n",
            "added module polynomials/evaluate_composed/train-easy\n",
            "attempting to add module polynomials/expand/train-easy\n",
            "added module polynomials/expand/train-easy\n",
            "attempting to add module polynomials/simplify_power/train-easy\n",
            "added module polynomials/simplify_power/train-easy\n",
            "attempting to add module polynomials/compose/train-easy\n",
            "added module polynomials/compose/train-easy\n",
            "attempting to add module polynomials/coefficient_named/train-easy\n",
            "added module polynomials/coefficient_named/train-easy\n",
            "size 11333322\n"
          ],
          "name": "stdout"
        }
      ]
    },
    {
      "cell_type": "code",
      "metadata": {
        "colab": {
          "base_uri": "https://localhost:8080/"
        },
        "id": "re6iQeFpFgqT",
        "outputId": "f13e7691-8e55-4011-dd48-aea1c6863961"
      },
      "source": [
        "seed = 1\n",
        "torch.manual_seed(seed)\n",
        "device = torch.device(\"cuda\")\n",
        "print(\"device\", device)"
      ],
      "execution_count": null,
      "outputs": [
        {
          "output_type": "stream",
          "text": [
            "device cuda\n"
          ],
          "name": "stdout"
        }
      ]
    },
    {
      "cell_type": "code",
      "metadata": {
        "id": "CEup8ch3FjhI"
      },
      "source": [
        "exp_name = \"algebra\"\n",
        "unique_id = \"2020-07-25_0900\""
      ],
      "execution_count": null,
      "outputs": []
    },
    {
      "cell_type": "code",
      "metadata": {
        "colab": {
          "base_uri": "https://localhost:8080/"
        },
        "id": "QENfSufaFrho",
        "outputId": "f3f0eedc-80ad-456c-edcb-c93263c5b941"
      },
      "source": [
        "ds = mdsmgr.build_dataset_from_module(\n",
        "    'algebra', 'linear_1d', 'train-easy'\n",
        ")\n",
        "print(\"train-easy dataset size\", len(ds))"
      ],
      "execution_count": null,
      "outputs": [
        {
          "output_type": "stream",
          "text": [
            "train-easy dataset size 666666\n"
          ],
          "name": "stdout"
        },
        {
          "output_type": "stream",
          "text": [
            "/usr/local/lib/python3.7/dist-packages/pandas/core/frame.py:4133: SettingWithCopyWarning: \n",
            "A value is trying to be set on a copy of a slice from a DataFrame\n",
            "\n",
            "See the caveats in the documentation: https://pandas.pydata.org/pandas-docs/stable/user_guide/indexing.html#returning-a-view-versus-a-copy\n",
            "  errors=errors,\n"
          ],
          "name": "stderr"
        }
      ]
    },
    {
      "cell_type": "code",
      "metadata": {
        "colab": {
          "base_uri": "https://localhost:8080/"
        },
        "id": "OhZBsfqoFvtP",
        "outputId": "2817c233-9991-4dbf-db9a-cc3a039884e2"
      },
      "source": [
        "ds_interpolate = mdsmgr.build_dataset_from_module(\n",
        "    'algebra', 'linear_1d', 'interpolate'\n",
        ")\n",
        "print(\"interpolate dataset size\", len(ds_interpolate))"
      ],
      "execution_count": null,
      "outputs": [
        {
          "output_type": "stream",
          "text": [
            "interpolate dataset size 10000\n"
          ],
          "name": "stdout"
        },
        {
          "output_type": "stream",
          "text": [
            "/usr/local/lib/python3.7/dist-packages/pandas/core/frame.py:4133: SettingWithCopyWarning: \n",
            "A value is trying to be set on a copy of a slice from a DataFrame\n",
            "\n",
            "See the caveats in the documentation: https://pandas.pydata.org/pandas-docs/stable/user_guide/indexing.html#returning-a-view-versus-a-copy\n",
            "  errors=errors,\n"
          ],
          "name": "stderr"
        }
      ]
    },
    {
      "cell_type": "code",
      "metadata": {
        "id": "GNZiY1_AFx9f"
      },
      "source": [
        "model = utils.build_transformer()\n"
      ],
      "execution_count": null,
      "outputs": []
    },
    {
      "cell_type": "code",
      "metadata": {
        "id": "eh3rqlqlFz4h"
      },
      "source": [
        "optimizer = optim.Adam(model.parameters(), lr=6e-6, betas=(0.9, 0.995), eps=1e-9)"
      ],
      "execution_count": null,
      "outputs": []
    },
    {
      "cell_type": "code",
      "metadata": {
        "id": "HhMBvRObF1r_"
      },
      "source": [
        "train_ds, val_ds = math_dataset.random_split_dataset(ds, split_rate=0.9)\n",
        "\n",
        "#Cargamos el data loader\n",
        "train_loader = data.DataLoader(\n",
        "    train_ds, batch_size=128, shuffle=True, num_workers=4,\n",
        "    collate_fn=question_answer_to_position_batch_collate_fn)\n",
        "\n",
        "val_loader = data.DataLoader(\n",
        "    val_ds, batch_size=128, shuffle=False, num_workers=4,\n",
        "    collate_fn=question_answer_to_position_batch_collate_fn)\n",
        "\n",
        "interpolate_loader = data.DataLoader(\n",
        "    ds_interpolate, batch_size=128, shuffle=False, num_workers=4,\n",
        "    collate_fn=question_answer_to_position_batch_collate_fn)"
      ],
      "execution_count": null,
      "outputs": []
    },
    {
      "cell_type": "code",
      "metadata": {
        "colab": {
          "base_uri": "https://localhost:8080/"
        },
        "id": "F7Nm1VhkF38W",
        "outputId": "3be0a788-3e6c-42b6-8595-e9e7733d1326"
      },
      "source": [
        "tb = Tensorboard(exp_name, unique_name=unique_id)"
      ],
      "execution_count": null,
      "outputs": [
        {
          "output_type": "stream",
          "text": [
            "Writing TensorBoard events locally to runs/algebra_2020-07-25_0900\n"
          ],
          "name": "stdout"
        }
      ]
    },
    {
      "cell_type": "code",
      "metadata": {
        "id": "-2v1DnQGF52e"
      },
      "source": [
        "model = model.to(device)"
      ],
      "execution_count": null,
      "outputs": []
    },
    {
      "cell_type": "code",
      "metadata": {
        "colab": {
          "base_uri": "https://localhost:8080/",
          "height": 419
        },
        "id": "4DoydaNrF8iu",
        "outputId": "02579ad8-2394-41ec-ed6f-f1e7221cd227"
      },
      "source": [
        "model_process.train(\n",
        "    exp_name = exp_name, \n",
        "    unique_id = unique_id,\n",
        "    model = model, \n",
        "    training_data = train_loader, \n",
        "    validation_data = val_loader, \n",
        "    interpolate_data = interpolate_loader,\n",
        "    optimizer = optimizer, \n",
        "    device = device,\n",
        "    epochs=1, \n",
        "    tb=tb, \n",
        "    log_interval=100,\n",
        ")"
      ],
      "execution_count": null,
      "outputs": [
        {
          "output_type": "stream",
          "text": [
            "\r  0%|          | 0/4688 [00:00<?, ?it/s]"
          ],
          "name": "stderr"
        },
        {
          "output_type": "stream",
          "text": [
            "[ Epoch 0 ]\n"
          ],
          "name": "stdout"
        },
        {
          "output_type": "stream",
          "text": [
            ""
          ],
          "name": "stderr"
        },
        {
          "output_type": "stream",
          "text": [
            "[Training]  loss: 1.7305487177632488, ppl:  5.64375, accuracy: 64.464 %, elapse: 1380060.880ms\n",
            "Save checkpoint time: 4507.014274597168\n"
          ],
          "name": "stdout"
        },
        {
          "output_type": "error",
          "ename": "AttributeError",
          "evalue": "ignored",
          "traceback": [
            "\u001b[0;31m---------------------------------------------------------------------------\u001b[0m",
            "\u001b[0;31mAttributeError\u001b[0m                            Traceback (most recent call last)",
            "\u001b[0;32m<ipython-input-101-0f7d3837a953>\u001b[0m in \u001b[0;36m<module>\u001b[0;34m()\u001b[0m\n\u001b[1;32m     10\u001b[0m     \u001b[0mepochs\u001b[0m\u001b[0;34m=\u001b[0m\u001b[0;36m1\u001b[0m\u001b[0;34m,\u001b[0m\u001b[0;34m\u001b[0m\u001b[0;34m\u001b[0m\u001b[0m\n\u001b[1;32m     11\u001b[0m     \u001b[0mtb\u001b[0m\u001b[0;34m=\u001b[0m\u001b[0mtb\u001b[0m\u001b[0;34m,\u001b[0m\u001b[0;34m\u001b[0m\u001b[0;34m\u001b[0m\u001b[0m\n\u001b[0;32m---> 12\u001b[0;31m     \u001b[0mlog_interval\u001b[0m\u001b[0;34m=\u001b[0m\u001b[0;36m100\u001b[0m\u001b[0;34m,\u001b[0m\u001b[0;34m\u001b[0m\u001b[0;34m\u001b[0m\u001b[0m\n\u001b[0m\u001b[1;32m     13\u001b[0m )\n",
            "\u001b[0;32m/content/drive/My Drive/Colab Notebooks/transformer/hs-math-nlp/model_process.py\u001b[0m in \u001b[0;36mtrain\u001b[0;34m(exp_name, unique_id, model, training_data, optimizer, device, epochs, validation_data, tb, log_interval, interpolate_interval, interpolate_data, start_epoch, start_batch, best_valid_accu, best_valid_loss, best_interpolate_accu, best_interpolate_loss, run_max_batches)\u001b[0m\n\u001b[1;32m    269\u001b[0m             \u001b[0msys\u001b[0m\u001b[0;34m.\u001b[0m\u001b[0mexit\u001b[0m\u001b[0;34m(\u001b[0m\u001b[0;36m0\u001b[0m\u001b[0;34m)\u001b[0m\u001b[0;34m\u001b[0m\u001b[0;34m\u001b[0m\u001b[0m\n\u001b[1;32m    270\u001b[0m \u001b[0;34m\u001b[0m\u001b[0m\n\u001b[0;32m--> 271\u001b[0;31m         \u001b[0mtraining_data\u001b[0m\u001b[0;34m.\u001b[0m\u001b[0mdataset\u001b[0m\u001b[0;34m.\u001b[0m\u001b[0mshuffleData\u001b[0m\u001b[0;34m(\u001b[0m\u001b[0;34m)\u001b[0m\u001b[0;34m\u001b[0m\u001b[0;34m\u001b[0m\u001b[0m\n\u001b[0m\u001b[1;32m    272\u001b[0m         \u001b[0;31m# See git history for validation & interpolation set handling\u001b[0m\u001b[0;34m\u001b[0m\u001b[0;34m\u001b[0m\u001b[0;34m\u001b[0m\u001b[0m\n\u001b[1;32m    273\u001b[0m \u001b[0;34m\u001b[0m\u001b[0m\n",
            "\u001b[0;31mAttributeError\u001b[0m: 'Subset' object has no attribute 'shuffleData'"
          ]
        }
      ]
    },
    {
      "cell_type": "code",
      "metadata": {
        "id": "DqErArqhNfXK"
      },
      "source": [
        "exp_name = \"math_ds_algebra_linear_1d_easy\"\n",
        "unique_id = \"2019-05-25_0900\"\n",
        "model_filepath = \"./checkpoints/math_ds_algebra_linear_1d_easy_2019-05-25_0900_latest_checkpoint.pth\""
      ],
      "execution_count": null,
      "outputs": []
    },
    {
      "cell_type": "code",
      "metadata": {
        "colab": {
          "base_uri": "https://localhost:8080/"
        },
        "id": "yOi7FugzRkQg",
        "outputId": "9250ee1d-f60e-46f1-8527-9e214bb3361c"
      },
      "source": [
        "# build default transformer model\n",
        "model = utiMls.build_transformer()\n",
        "# restore model from checkpoint\n",
        "_ = checkpoints.restore_checkpoint(model_filepath, model)"
      ],
      "execution_count": null,
      "outputs": [
        {
          "output_type": "stream",
          "text": [
            "Extracting state from ./checkpoints/math_ds_algebra_linear_1d_easy_2019-05-25_0900_latest_checkpoint.pth\n",
            "Loading model state_dict from state found in ./checkpoints/math_ds_algebra_linear_1d_easy_2019-05-25_0900_latest_checkpoint.pth\n"
          ],
          "name": "stdout"
        }
      ]
    },
    {
      "cell_type": "code",
      "metadata": {
        "colab": {
          "base_uri": "https://localhost:8080/"
        },
        "id": "m57FZnnNS65R",
        "outputId": "8244566c-7904-4b82-8b10-78219884581c"
      },
      "source": [
        "%ls"
      ],
      "execution_count": null,
      "outputs": [
        {
          "output_type": "stream",
          "text": [
            "\u001b[0m\u001b[01;34mcheckpoints\u001b[0m/           math_ds_sandbox.ipynb    spot_startup_script.sh\n",
            "checkpoints.py         math_ds_train.ipynb      tensorboard_utils.py\n",
            "gcloud_instance.sh     model_process.py         training.py\n",
            "loss.py                \u001b[01;34m__pycache__\u001b[0m/             \u001b[01;34mtransformer\u001b[0m/\n",
            "\u001b[01;34mLSTM\u001b[0m/                  README.md                utils.py\n",
            "math_dataset.py        \u001b[01;34mruns\u001b[0m/\n",
            "math_ds_predict.ipynb  spot_shutdown_script.sh\n"
          ],
          "name": "stdout"
        }
      ]
    },
    {
      "cell_type": "code",
      "metadata": {
        "id": "4TjesjyvSTRc"
      },
      "source": [
        "valid_ea = tensorboard_event_accumulator(\n",
        "    \"./runs/math_ds_algebra_linear_1d_easy_2019-05-25_0900_train/events.out.tfevents.1626765620.213c2d3b66d6\"\n",
        ")\n",
        "\n",
        "interpolate_ea = tensorboard_event_accumulator(\n",
        "    \"./runs/math_ds_algebra_linear_1d_easy_2019-05-25_0900_interpolate/events.out.tfevents.1626761358.22b9ae83bd65\"\n",
        ")\n",
        "\n",
        "valid_accuracy = valid_ea.Scalars(\"epoch/accuracy\")\n",
        "valid_loss_per_char = valid_ea.Scalars(\"epoch/loss_per_char\")\n",
        "\n",
        "interpolate_accuracy = interpolate_ea.Scalars(\"epoch/accuracy\")\n",
        "interpolate_loss_per_char = interpolate_ea.Scalars(\"epoch/loss_per_char\")"
      ],
      "execution_count": null,
      "outputs": []
    },
    {
      "cell_type": "code",
      "metadata": {
        "colab": {
          "base_uri": "https://localhost:8080/"
        },
        "id": "mXH5UUjNTXwX",
        "outputId": "7f9d2e6d-b6f5-4739-c2b4-0e0f122e725d"
      },
      "source": [
        "questions = [\n",
        "    \"Solve 10 * d - 20 = -10 for d.\"\n",
        "]\n",
        "\n",
        "print(model_process.predict_multiple(questions, model, device))"
      ],
      "execution_count": 141,
      "outputs": [
        {
          "output_type": "stream",
          "text": [
            "[{'resp': '1', 'score': -0.0258636474609375}]\n"
          ],
          "name": "stdout"
        }
      ]
    }
  ]
}