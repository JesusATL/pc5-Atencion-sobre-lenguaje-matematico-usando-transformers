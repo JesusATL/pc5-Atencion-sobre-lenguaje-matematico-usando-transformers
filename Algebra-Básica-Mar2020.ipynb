{
  "nbformat": 4,
  "nbformat_minor": 2,
  "metadata": {
    "colab": {
      "name": "Algebra.ipynb",
      "provenance": [],
      "collapsed_sections": [],
      "include_colab_link": true
    },
    "kernelspec": {
      "display_name": "Python 3",
      "name": "python3"
    },
    "accelerator": "GPU"
  },
  "cells": [
    {
      "cell_type": "markdown",
      "source": [
        "<a href=\"https://colab.research.google.com/github/JesusATL/pc5-Atencion-sobre-lenguaje-matematico-usando-transformers/blob/main/Algebra-B%C3%A1sica-Mar2020.ipynb\" target=\"_parent\"><img src=\"https://colab.research.google.com/assets/colab-badge.svg\" alt=\"Open In Colab\"/></a>"
      ],
      "metadata": {
        "id": "view-in-github",
        "colab_type": "text"
      }
    },
    {
      "cell_type": "markdown",
      "source": [
        "## En el presente cuaderno se prueba algunas predicciones a partir del repositorio https://github.com/andrewschreiber/hs-math-nlp/, en su rama master en la fecha marzo del 2020, para asegurar el buen funcionamiento de algunos cuadernos de referencia en el repositorio."
      ],
      "metadata": {
        "id": "sFWXVOFEWi6A"
      }
    },
    {
      "cell_type": "markdown",
      "source": [
        "### Instalamos el requirements.txt"
      ],
      "metadata": {
        "id": "NQAocVJ0XDOf"
      }
    },
    {
      "cell_type": "code",
      "execution_count": null,
      "source": [
        "!pip install absl-py==0.9.0\r\n",
        "!pip install astroid==2.4.1\r\n",
        "!pip install cachetools==4.1.0\r\n",
        "!pip install certifi==2020.4.5.1\r\n",
        "!pip install chardet==3.0.4\r\n",
        "!pip install future==0.18.2\r\n",
        "!pip install google-api-core==1.17.0\r\n",
        "!pip install google-auth==1.16.0\r\n",
        "!pip install google-auth-oauthlib==0.4.1\r\n",
        "!pip install google-cloud-core==1.3.0\r\n",
        "!pip install google-cloud-storage==1.28.1\r\n",
        "!pip install google-resumable-media==0.5.0\r\n",
        "!pip install googleapis-common-protos==1.51.0\r\n",
        "!pip install grpcio==1.29.0\r\n",
        "!pip install idna==2.9\r\n",
        "!pip install importlib-metadata==1.6.0\r\n",
        "!pip install isort==4.3.21\r\n",
        "!pip install lazy-object-proxy==1.4.3\r\n",
        "!pip install Markdown==3.2.2\r\n",
        "!pip install mccabe==0.6.1\r\n",
        "!pip install numpy==1.18.4\r\n",
        "!pip install oauthlib==3.1.0\r\n",
        "!pip install pandas==1.0.3\r\n",
        "!pip install protobuf==3.12.2\r\n",
        "!pip install pyasn1==0.4.8\r\n",
        "!pip install pyasn1-modules==0.2.8\r\n",
        "!pip install pylint==2.5.2\r\n",
        "!pip install python-dateutil==2.8.1\r\n",
        "!pip install pytz==2020.1\r\n",
        "!pip install requests==2.23.0\r\n",
        "!pip install requests-oauthlib==1.3.0\r\n",
        "!pip install rsa==4.0\r\n",
        "!pip install six==1.15.0\r\n",
        "!pip install tensorboard==2.2.2\r\n",
        "!pip install tensorboard-plugin-wit==1.6.0.post3\r\n",
        "!pip install tensorboardX==2.0\r\n",
        "!pip install toml==0.10.0\r\n",
        "!pip install torch==1.4.0\r\n",
        "!pip install tqdm==4.46.0\r\n",
        "!pip install typed-ast==1.4.1\r\n",
        "!pip install urllib3==1.25.9\r\n",
        "!pip install Werkzeug==1.0.1\r\n",
        "!pip install wrapt==1.11.2\r\n",
        "!pip install zipp==3.1.0"
      ],
      "outputs": [],
      "metadata": {
        "id": "-v-e6qIktU58"
      }
    },
    {
      "cell_type": "code",
      "execution_count": null,
      "source": [
        "from google.colab import drive\r\n",
        "drive.mount('/content/drive')"
      ],
      "outputs": [
        {
          "output_type": "stream",
          "name": "stdout",
          "text": [
            "Drive already mounted at /content/drive; to attempt to forcibly remount, call drive.mount(\"/content/drive\", force_remount=True).\n"
          ]
        }
      ],
      "metadata": {
        "id": "7YKzjKoZtmp_",
        "colab": {
          "base_uri": "https://localhost:8080/"
        },
        "outputId": "80b9a8e3-7400-47a4-af9e-80187e755de0"
      }
    },
    {
      "cell_type": "markdown",
      "source": [
        "### Restauramos el repositorio en Marzo del 2020"
      ],
      "metadata": {
        "id": "0dhtn7x0XJRz"
      }
    },
    {
      "cell_type": "code",
      "execution_count": null,
      "source": [
        "!git checkout -b mar2020 f8170b36fbd2392baa1e8f41d0a0d06efdd6e0e2"
      ],
      "outputs": [
        {
          "output_type": "stream",
          "name": "stdout",
          "text": [
            "fatal: A branch named 'mar2020' already exists.\n"
          ]
        }
      ],
      "metadata": {
        "colab": {
          "base_uri": "https://localhost:8080/"
        },
        "id": "07HhfAPl_ago",
        "outputId": "ccd57e88-0975-4ffc-d670-e51b4937920e"
      }
    },
    {
      "cell_type": "markdown",
      "source": [
        "### Nos movemos a la carpeta del repositorio"
      ],
      "metadata": {
        "id": "wMewoHdvXhHp"
      }
    },
    {
      "cell_type": "code",
      "execution_count": null,
      "source": [
        "import os\r\n",
        "os.chdir('/content/drive/MyDrive/Colab Notebooks/transformer/hs-math-nlp')"
      ],
      "outputs": [],
      "metadata": {
        "id": "9PrdqfJBvhAr"
      }
    },
    {
      "cell_type": "markdown",
      "source": [
        "### Importamos las librerías necesarias"
      ],
      "metadata": {
        "id": "Mjop_bLNXmS4"
      }
    },
    {
      "cell_type": "code",
      "execution_count": null,
      "source": [
        "import math\r\n",
        "import numpy as np\r\n",
        "import torch\r\n",
        "from torch.utils import data\r\n",
        "import torch.optim as optim\r\n",
        "import torch.nn.functional as F\r\n",
        "from tensorboard_utils import Tensorboard\r\n",
        "\r\n",
        "from math_dataset import (\r\n",
        "    LazyFileMathDataset,\r\n",
        "    MathDatasetManager,\r\n",
        "    question_answer_to_position_batch_collate_fn\r\n",
        ")\r\n",
        "\r\n",
        "import model_process\r\n",
        "import utils\r\n",
        "import checkpoints\r\n",
        "\r\n",
        "from tensorboard_utils import Tensorboard\r\n",
        "from tensorboard_utils import tensorboard_event_accumulator\r\n",
        "\r\n",
        "import matplotlib\r\n",
        "import numpy as np\r\n",
        "import matplotlib.pyplot as plt\r\n",
        "%matplotlib notebook  \r\n",
        "\r\n",
        "print(\"Torch Version\", torch.__version__)\r\n",
        "\r\n",
        "%reload_ext autoreload\r\n",
        "%autoreload 2"
      ],
      "outputs": [
        {
          "output_type": "stream",
          "name": "stdout",
          "text": [
            "Torch Version 1.4.0\n"
          ]
        }
      ],
      "metadata": {
        "colab": {
          "base_uri": "https://localhost:8080/"
        },
        "id": "bH31yElBB9Aw",
        "outputId": "7b856063-ca4c-4ae8-d580-018befc723fa"
      }
    },
    {
      "cell_type": "code",
      "execution_count": null,
      "source": [
        "device = torch.device(\"cuda\")\r\n",
        "print(\"device\", device)"
      ],
      "outputs": [
        {
          "output_type": "stream",
          "name": "stdout",
          "text": [
            "device cuda\n"
          ]
        }
      ],
      "metadata": {
        "colab": {
          "base_uri": "https://localhost:8080/"
        },
        "id": "T9tjksNpCDOe",
        "outputId": "4dd636ad-de18-4be7-c7f8-c70ea2379960"
      }
    },
    {
      "cell_type": "markdown",
      "source": [
        "### Observamos los modulos con los que se puede trabajar "
      ],
      "metadata": {
        "id": "FXfPMtxnXvko"
      }
    },
    {
      "cell_type": "code",
      "execution_count": null,
      "source": [
        "mdsmgr = MathDatasetManager(\"/content/drive/MyDrive/Colab Notebooks/transformer/mathematics_dataset-v1.0\")"
      ],
      "outputs": [
        {
          "output_type": "stream",
          "name": "stdout",
          "text": [
            "initialized MultiFilesMathDataset with categories ['numbers', 'polynomials', 'comparison', 'probability', 'algebra', 'arithmetic', 'measurement', 'calculus'] and types ['train-easy', 'train-medium', 'train-hard', 'interpolate', 'extrapolate']\n"
          ]
        }
      ],
      "metadata": {
        "colab": {
          "base_uri": "https://localhost:8080/"
        },
        "id": "M4goiVdZCIkW",
        "outputId": "b9bc90e3-36d8-40cc-af95-d0d0c5f8c8ed"
      }
    },
    {
      "cell_type": "code",
      "execution_count": null,
      "source": [
        "model_filepath = \"/content/drive/MyDrive/Colab Notebooks/transformer/hs-math-nlp/checkpoints/checkpoint_felipe.pth\""
      ],
      "outputs": [],
      "metadata": {
        "id": "UxxhpH98CKfl"
      }
    },
    {
      "cell_type": "code",
      "execution_count": null,
      "source": [
        "print(\"tipos\", list(mdsmgr.get_types()))"
      ],
      "outputs": [
        {
          "output_type": "stream",
          "name": "stdout",
          "text": [
            "types ['train-easy', 'train-medium', 'train-hard', 'interpolate', 'extrapolate']\n"
          ]
        }
      ],
      "metadata": {
        "colab": {
          "base_uri": "https://localhost:8080/"
        },
        "id": "gD3c1nVEDESc",
        "outputId": "d003c97b-257f-4be2-bb66-119f6c9af152"
      }
    },
    {
      "cell_type": "code",
      "execution_count": null,
      "source": [
        "print(\"categorias\", list(mdsmgr.get_categories()))"
      ],
      "outputs": [
        {
          "output_type": "stream",
          "name": "stdout",
          "text": [
            "categories ['numbers', 'polynomials', 'comparison', 'probability', 'algebra', 'arithmetic', 'measurement', 'calculus']\n"
          ]
        }
      ],
      "metadata": {
        "colab": {
          "base_uri": "https://localhost:8080/"
        },
        "id": "tnyPqHIwES5x",
        "outputId": "97bccdc9-be3b-4de8-f38c-abe2020480c5"
      }
    },
    {
      "cell_type": "code",
      "execution_count": null,
      "source": [
        "print(\"modulos de aritmética\", mdsmgr.get_modules_for_category('arithmetic'))"
      ],
      "outputs": [
        {
          "output_type": "stream",
          "name": "stdout",
          "text": [
            "modules of arithmetic dict_keys(['mul', 'add_or_sub_in_base', 'mixed', 'mul_div_multiple', 'add_sub_multiple', 'add_or_sub', 'simplify_surd', 'nearest_integer_root', 'div', 'add_or_sub(1)', 'mul_div_multiple_longer', 'add_or_sub_big', 'add_sub_multiple_longer', 'div_big', 'mixed_longer', 'mul_big'])\n"
          ]
        }
      ],
      "metadata": {
        "colab": {
          "base_uri": "https://localhost:8080/"
        },
        "id": "VmERAV-8FCLc",
        "outputId": "06f49dd5-4217-4399-f2be-6418a37c9c62"
      }
    },
    {
      "cell_type": "code",
      "execution_count": null,
      "source": [
        "ds = mdsmgr.build_dataset_from_module('arithmetic', 'add_or_sub', 'train-easy')\r\n",
        "print(\"tamaño\", len(ds))"
      ],
      "outputs": [
        {
          "output_type": "stream",
          "name": "stdout",
          "text": [
            "size 666666\n"
          ]
        },
        {
          "output_type": "stream",
          "name": "stderr",
          "text": [
            "/usr/local/lib/python3.7/dist-packages/pandas/core/frame.py:4133: SettingWithCopyWarning: \n",
            "A value is trying to be set on a copy of a slice from a DataFrame\n",
            "\n",
            "See the caveats in the documentation: https://pandas.pydata.org/pandas-docs/stable/user_guide/indexing.html#returning-a-view-versus-a-copy\n",
            "  errors=errors,\n"
          ]
        }
      ],
      "metadata": {
        "colab": {
          "base_uri": "https://localhost:8080/"
        },
        "id": "KKmAyw0BFHyD",
        "outputId": "6ada61c5-7a80-4504-98f9-d67edb4a3ef3"
      }
    },
    {
      "cell_type": "code",
      "execution_count": null,
      "source": [
        "ds = mdsmgr.build_dataset_from_module('arithmetic', 'add_or_sub', 'train-easy', max_elements=1000)\r\n",
        "print(\"tamaño\", len(ds))"
      ],
      "outputs": [
        {
          "output_type": "stream",
          "name": "stdout",
          "text": [
            "size 1000\n"
          ]
        },
        {
          "output_type": "stream",
          "name": "stderr",
          "text": [
            "/usr/local/lib/python3.7/dist-packages/pandas/core/frame.py:4133: SettingWithCopyWarning: \n",
            "A value is trying to be set on a copy of a slice from a DataFrame\n",
            "\n",
            "See the caveats in the documentation: https://pandas.pydata.org/pandas-docs/stable/user_guide/indexing.html#returning-a-view-versus-a-copy\n",
            "  errors=errors,\n"
          ]
        }
      ],
      "metadata": {
        "colab": {
          "base_uri": "https://localhost:8080/"
        },
        "id": "2Nrvl0evFKg8",
        "outputId": "f48ce1db-a493-4d5f-b592-b19ed8d3f356"
      }
    },
    {
      "cell_type": "code",
      "execution_count": null,
      "source": [
        "ds = mdsmgr.build_dataset_from_modules('arithmetic', ['add_or_sub', 'add_sub_multiple'], 'train-easy')\r\n",
        "print(\"tamaño\", len(ds))"
      ],
      "outputs": [
        {
          "output_type": "stream",
          "name": "stderr",
          "text": [
            "/usr/local/lib/python3.7/dist-packages/pandas/core/frame.py:4133: SettingWithCopyWarning: \n",
            "A value is trying to be set on a copy of a slice from a DataFrame\n",
            "\n",
            "See the caveats in the documentation: https://pandas.pydata.org/pandas-docs/stable/user_guide/indexing.html#returning-a-view-versus-a-copy\n",
            "  errors=errors,\n"
          ]
        },
        {
          "output_type": "stream",
          "name": "stdout",
          "text": [
            "size 1333332\n"
          ]
        }
      ],
      "metadata": {
        "colab": {
          "base_uri": "https://localhost:8080/"
        },
        "id": "wlKNDNtcFNWQ",
        "outputId": "9cbdcd03-b897-467b-ae0c-9373f7d4e7c4"
      }
    },
    {
      "cell_type": "code",
      "execution_count": null,
      "source": [
        "ds = mdsmgr.build_dataset_from_category('arithmetic', 'train-easy')\r\n",
        "print(\"tamaño\", len(ds))"
      ],
      "outputs": [
        {
          "output_type": "stream",
          "name": "stdout",
          "text": [
            "adding category arithmetic/../train-easy\n",
            "attempting to add module arithmetic/mul/train-easy\n"
          ]
        },
        {
          "output_type": "stream",
          "name": "stderr",
          "text": [
            "/usr/local/lib/python3.7/dist-packages/pandas/core/frame.py:4133: SettingWithCopyWarning: \n",
            "A value is trying to be set on a copy of a slice from a DataFrame\n",
            "\n",
            "See the caveats in the documentation: https://pandas.pydata.org/pandas-docs/stable/user_guide/indexing.html#returning-a-view-versus-a-copy\n",
            "  errors=errors,\n"
          ]
        },
        {
          "output_type": "stream",
          "name": "stdout",
          "text": [
            "added module arithmetic/mul/train-easy\n",
            "attempting to add module arithmetic/add_or_sub_in_base/train-easy\n",
            "added module arithmetic/add_or_sub_in_base/train-easy\n",
            "attempting to add module arithmetic/mixed/train-easy\n",
            "added module arithmetic/mixed/train-easy\n",
            "attempting to add module arithmetic/mul_div_multiple/train-easy\n",
            "added module arithmetic/mul_div_multiple/train-easy\n",
            "attempting to add module arithmetic/add_sub_multiple/train-easy\n",
            "added module arithmetic/add_sub_multiple/train-easy\n",
            "attempting to add module arithmetic/add_or_sub/train-easy\n",
            "added module arithmetic/add_or_sub/train-easy\n",
            "attempting to add module arithmetic/simplify_surd/train-easy\n",
            "added module arithmetic/simplify_surd/train-easy\n",
            "attempting to add module arithmetic/nearest_integer_root/train-easy\n",
            "added module arithmetic/nearest_integer_root/train-easy\n",
            "attempting to add module arithmetic/div/train-easy\n",
            "added module arithmetic/div/train-easy\n",
            "size 5999994\n"
          ]
        }
      ],
      "metadata": {
        "colab": {
          "base_uri": "https://localhost:8080/"
        },
        "id": "R9klKzZvFT6K",
        "outputId": "06460b4e-0476-4561-d308-da28ab1fffe6"
      }
    },
    {
      "cell_type": "code",
      "execution_count": null,
      "source": [
        "ds = mdsmgr.build_dataset_from_categories(['arithmetic', 'polynomials'], 'train-easy')\r\n",
        "print(\"tamaño\", len(ds))"
      ],
      "outputs": [
        {
          "output_type": "stream",
          "name": "stdout",
          "text": [
            "adding category.. arithmetic/../train-easy\n",
            "attempting to add module arithmetic/mul/train-easy\n",
            "added module arithmetic/mul/train-easy\n",
            "attempting to add module arithmetic/add_or_sub_in_base/train-easy\n",
            "added module arithmetic/add_or_sub_in_base/train-easy\n",
            "attempting to add module arithmetic/mixed/train-easy\n",
            "added module arithmetic/mixed/train-easy\n",
            "attempting to add module arithmetic/mul_div_multiple/train-easy\n",
            "added module arithmetic/mul_div_multiple/train-easy\n",
            "attempting to add module arithmetic/add_sub_multiple/train-easy\n",
            "added module arithmetic/add_sub_multiple/train-easy\n",
            "attempting to add module arithmetic/add_or_sub/train-easy\n"
          ]
        },
        {
          "output_type": "stream",
          "name": "stderr",
          "text": [
            "/usr/local/lib/python3.7/dist-packages/pandas/core/frame.py:4133: SettingWithCopyWarning: \n",
            "A value is trying to be set on a copy of a slice from a DataFrame\n",
            "\n",
            "See the caveats in the documentation: https://pandas.pydata.org/pandas-docs/stable/user_guide/indexing.html#returning-a-view-versus-a-copy\n",
            "  errors=errors,\n"
          ]
        },
        {
          "output_type": "stream",
          "name": "stdout",
          "text": [
            "added module arithmetic/add_or_sub/train-easy\n",
            "attempting to add module arithmetic/simplify_surd/train-easy\n",
            "added module arithmetic/simplify_surd/train-easy\n",
            "attempting to add module arithmetic/nearest_integer_root/train-easy\n",
            "added module arithmetic/nearest_integer_root/train-easy\n",
            "attempting to add module arithmetic/div/train-easy\n",
            "added module arithmetic/div/train-easy\n",
            "adding category.. polynomials/../train-easy\n",
            "attempting to add module polynomials/collect/train-easy\n",
            "added module polynomials/collect/train-easy\n",
            "attempting to add module polynomials/evaluate/train-easy\n",
            "added module polynomials/evaluate/train-easy\n",
            "attempting to add module polynomials/add/train-easy\n",
            "added module polynomials/add/train-easy\n",
            "attempting to add module polynomials/evaluate_composed/train-easy\n",
            "added module polynomials/evaluate_composed/train-easy\n",
            "attempting to add module polynomials/expand/train-easy\n",
            "added module polynomials/expand/train-easy\n",
            "attempting to add module polynomials/simplify_power/train-easy\n",
            "added module polynomials/simplify_power/train-easy\n",
            "attempting to add module polynomials/compose/train-easy\n",
            "added module polynomials/compose/train-easy\n",
            "attempting to add module polynomials/coefficient_named/train-easy\n",
            "added module polynomials/coefficient_named/train-easy\n",
            "size 11333322\n"
          ]
        }
      ],
      "metadata": {
        "colab": {
          "base_uri": "https://localhost:8080/"
        },
        "id": "w2EqsPcOFaxS",
        "outputId": "6306ff68-bf21-4498-b01a-cb6edacdc4b4"
      }
    },
    {
      "cell_type": "code",
      "execution_count": null,
      "source": [
        "seed = 1\r\n",
        "torch.manual_seed(seed)\r\n",
        "device = torch.device(\"cuda\")\r\n",
        "print(\"device\", device)"
      ],
      "outputs": [
        {
          "output_type": "stream",
          "name": "stdout",
          "text": [
            "device cuda\n"
          ]
        }
      ],
      "metadata": {
        "colab": {
          "base_uri": "https://localhost:8080/"
        },
        "id": "re6iQeFpFgqT",
        "outputId": "f13e7691-8e55-4011-dd48-aea1c6863961"
      }
    },
    {
      "cell_type": "code",
      "execution_count": null,
      "source": [
        "exp_name = \"algebra\"\n",
        "unique_id = \"2020-07-25_0900\""
      ],
      "outputs": [],
      "metadata": {
        "id": "CEup8ch3FjhI"
      }
    },
    {
      "cell_type": "code",
      "execution_count": null,
      "source": [
        "ds = mdsmgr.build_dataset_from_module(\r\n",
        "    'algebra', 'linear_1d', 'train-easy'\r\n",
        ")\r\n",
        "print(\"train-easy dataset size\", len(ds))"
      ],
      "outputs": [
        {
          "output_type": "stream",
          "name": "stdout",
          "text": [
            "train-easy dataset size 666666\n"
          ]
        },
        {
          "output_type": "stream",
          "name": "stderr",
          "text": [
            "/usr/local/lib/python3.7/dist-packages/pandas/core/frame.py:4133: SettingWithCopyWarning: \n",
            "A value is trying to be set on a copy of a slice from a DataFrame\n",
            "\n",
            "See the caveats in the documentation: https://pandas.pydata.org/pandas-docs/stable/user_guide/indexing.html#returning-a-view-versus-a-copy\n",
            "  errors=errors,\n"
          ]
        }
      ],
      "metadata": {
        "colab": {
          "base_uri": "https://localhost:8080/"
        },
        "id": "QENfSufaFrho",
        "outputId": "f3f0eedc-80ad-456c-edcb-c93263c5b941"
      }
    },
    {
      "cell_type": "code",
      "execution_count": null,
      "source": [
        "ds_interpolate = mdsmgr.build_dataset_from_module(\r\n",
        "    'algebra', 'linear_1d', 'interpolate'\r\n",
        ")\r\n",
        "print(\"interpolate dataset size\", len(ds_interpolate))"
      ],
      "outputs": [
        {
          "output_type": "stream",
          "name": "stdout",
          "text": [
            "interpolate dataset size 10000\n"
          ]
        },
        {
          "output_type": "stream",
          "name": "stderr",
          "text": [
            "/usr/local/lib/python3.7/dist-packages/pandas/core/frame.py:4133: SettingWithCopyWarning: \n",
            "A value is trying to be set on a copy of a slice from a DataFrame\n",
            "\n",
            "See the caveats in the documentation: https://pandas.pydata.org/pandas-docs/stable/user_guide/indexing.html#returning-a-view-versus-a-copy\n",
            "  errors=errors,\n"
          ]
        }
      ],
      "metadata": {
        "colab": {
          "base_uri": "https://localhost:8080/"
        },
        "id": "OhZBsfqoFvtP",
        "outputId": "2817c233-9991-4dbf-db9a-cc3a039884e2"
      }
    },
    {
      "cell_type": "code",
      "execution_count": null,
      "source": [
        "model = utils.build_transformer()\r\n"
      ],
      "outputs": [],
      "metadata": {
        "id": "GNZiY1_AFx9f"
      }
    },
    {
      "cell_type": "code",
      "execution_count": null,
      "source": [
        "optimizer = optim.Adam(model.parameters(), lr=6e-6, betas=(0.9, 0.995), eps=1e-9)"
      ],
      "outputs": [],
      "metadata": {
        "id": "eh3rqlqlFz4h"
      }
    },
    {
      "cell_type": "code",
      "execution_count": null,
      "source": [
        "train_ds, val_ds = math_dataset.random_split_dataset(ds, split_rate=0.9)\r\n",
        "\r\n",
        "#Cargamos el data loader\r\n",
        "train_loader = data.DataLoader(\r\n",
        "    train_ds, batch_size=128, shuffle=True, num_workers=4,\r\n",
        "    collate_fn=question_answer_to_position_batch_collate_fn)\r\n",
        "\r\n",
        "val_loader = data.DataLoader(\r\n",
        "    val_ds, batch_size=128, shuffle=False, num_workers=4,\r\n",
        "    collate_fn=question_answer_to_position_batch_collate_fn)\r\n",
        "\r\n",
        "interpolate_loader = data.DataLoader(\r\n",
        "    ds_interpolate, batch_size=128, shuffle=False, num_workers=4,\r\n",
        "    collate_fn=question_answer_to_position_batch_collate_fn)"
      ],
      "outputs": [],
      "metadata": {
        "id": "HhMBvRObF1r_"
      }
    },
    {
      "cell_type": "code",
      "execution_count": null,
      "source": [
        "tb = Tensorboard(exp_name, unique_name=unique_id)"
      ],
      "outputs": [
        {
          "output_type": "stream",
          "name": "stdout",
          "text": [
            "Writing TensorBoard events locally to runs/algebra_2020-07-25_0900\n"
          ]
        }
      ],
      "metadata": {
        "colab": {
          "base_uri": "https://localhost:8080/"
        },
        "id": "F7Nm1VhkF38W",
        "outputId": "3be0a788-3e6c-42b6-8595-e9e7733d1326"
      }
    },
    {
      "cell_type": "code",
      "execution_count": null,
      "source": [
        "model = model.to(device)"
      ],
      "outputs": [],
      "metadata": {
        "id": "-2v1DnQGF52e"
      }
    },
    {
      "cell_type": "code",
      "execution_count": null,
      "source": [
        "model_process.train(\r\n",
        "    exp_name = exp_name, \r\n",
        "    unique_id = unique_id,\r\n",
        "    model = model, \r\n",
        "    training_data = train_loader, \r\n",
        "    validation_data = val_loader, \r\n",
        "    interpolate_data = interpolate_loader,\r\n",
        "    optimizer = optimizer, \r\n",
        "    device = device,\r\n",
        "    epochs=1, \r\n",
        "    tb=tb, \r\n",
        "    log_interval=100,\r\n",
        ")"
      ],
      "outputs": [
        {
          "output_type": "stream",
          "name": "stderr",
          "text": [
            "\r  0%|          | 0/4688 [00:00<?, ?it/s]"
          ]
        },
        {
          "output_type": "stream",
          "name": "stdout",
          "text": [
            "[ Epoch 0 ]\n"
          ]
        },
        {
          "output_type": "stream",
          "name": "stderr",
          "text": []
        },
        {
          "output_type": "stream",
          "name": "stdout",
          "text": [
            "[Training]  loss: 1.7305487177632488, ppl:  5.64375, accuracy: 64.464 %, elapse: 1380060.880ms\n",
            "Save checkpoint time: 4507.014274597168\n"
          ]
        },
        {
          "output_type": "error",
          "ename": "AttributeError",
          "evalue": "ignored",
          "traceback": [
            "\u001b[0;31m---------------------------------------------------------------------------\u001b[0m",
            "\u001b[0;31mAttributeError\u001b[0m                            Traceback (most recent call last)",
            "\u001b[0;32m<ipython-input-101-0f7d3837a953>\u001b[0m in \u001b[0;36m<module>\u001b[0;34m()\u001b[0m\n\u001b[1;32m     10\u001b[0m     \u001b[0mepochs\u001b[0m\u001b[0;34m=\u001b[0m\u001b[0;36m1\u001b[0m\u001b[0;34m,\u001b[0m\u001b[0;34m\u001b[0m\u001b[0;34m\u001b[0m\u001b[0m\n\u001b[1;32m     11\u001b[0m     \u001b[0mtb\u001b[0m\u001b[0;34m=\u001b[0m\u001b[0mtb\u001b[0m\u001b[0;34m,\u001b[0m\u001b[0;34m\u001b[0m\u001b[0;34m\u001b[0m\u001b[0m\n\u001b[0;32m---> 12\u001b[0;31m     \u001b[0mlog_interval\u001b[0m\u001b[0;34m=\u001b[0m\u001b[0;36m100\u001b[0m\u001b[0;34m,\u001b[0m\u001b[0;34m\u001b[0m\u001b[0;34m\u001b[0m\u001b[0m\n\u001b[0m\u001b[1;32m     13\u001b[0m )\n",
            "\u001b[0;32m/content/drive/My Drive/Colab Notebooks/transformer/hs-math-nlp/model_process.py\u001b[0m in \u001b[0;36mtrain\u001b[0;34m(exp_name, unique_id, model, training_data, optimizer, device, epochs, validation_data, tb, log_interval, interpolate_interval, interpolate_data, start_epoch, start_batch, best_valid_accu, best_valid_loss, best_interpolate_accu, best_interpolate_loss, run_max_batches)\u001b[0m\n\u001b[1;32m    269\u001b[0m             \u001b[0msys\u001b[0m\u001b[0;34m.\u001b[0m\u001b[0mexit\u001b[0m\u001b[0;34m(\u001b[0m\u001b[0;36m0\u001b[0m\u001b[0;34m)\u001b[0m\u001b[0;34m\u001b[0m\u001b[0;34m\u001b[0m\u001b[0m\n\u001b[1;32m    270\u001b[0m \u001b[0;34m\u001b[0m\u001b[0m\n\u001b[0;32m--> 271\u001b[0;31m         \u001b[0mtraining_data\u001b[0m\u001b[0;34m.\u001b[0m\u001b[0mdataset\u001b[0m\u001b[0;34m.\u001b[0m\u001b[0mshuffleData\u001b[0m\u001b[0;34m(\u001b[0m\u001b[0;34m)\u001b[0m\u001b[0;34m\u001b[0m\u001b[0;34m\u001b[0m\u001b[0m\n\u001b[0m\u001b[1;32m    272\u001b[0m         \u001b[0;31m# See git history for validation & interpolation set handling\u001b[0m\u001b[0;34m\u001b[0m\u001b[0;34m\u001b[0m\u001b[0;34m\u001b[0m\u001b[0m\n\u001b[1;32m    273\u001b[0m \u001b[0;34m\u001b[0m\u001b[0m\n",
            "\u001b[0;31mAttributeError\u001b[0m: 'Subset' object has no attribute 'shuffleData'"
          ]
        }
      ],
      "metadata": {
        "colab": {
          "base_uri": "https://localhost:8080/",
          "height": 419
        },
        "id": "4DoydaNrF8iu",
        "outputId": "02579ad8-2394-41ec-ed6f-f1e7221cd227"
      }
    },
    {
      "cell_type": "code",
      "execution_count": null,
      "source": [
        "exp_name = \"math_ds_algebra_linear_1d_easy\"\r\n",
        "unique_id = \"2019-05-25_0900\"\r\n",
        "model_filepath = \"./checkpoints/math_ds_algebra_linear_1d_easy_2019-05-25_0900_latest_checkpoint.pth\""
      ],
      "outputs": [],
      "metadata": {
        "id": "DqErArqhNfXK"
      }
    },
    {
      "cell_type": "code",
      "execution_count": null,
      "source": [
        "# build default transformer model\r\n",
        "model = utiMls.build_transformer()\r\n",
        "# restore model from checkpoint\r\n",
        "_ = checkpoints.restore_checkpoint(model_filepath, model)"
      ],
      "outputs": [
        {
          "output_type": "stream",
          "name": "stdout",
          "text": [
            "Extracting state from ./checkpoints/math_ds_algebra_linear_1d_easy_2019-05-25_0900_latest_checkpoint.pth\n",
            "Loading model state_dict from state found in ./checkpoints/math_ds_algebra_linear_1d_easy_2019-05-25_0900_latest_checkpoint.pth\n"
          ]
        }
      ],
      "metadata": {
        "colab": {
          "base_uri": "https://localhost:8080/"
        },
        "id": "yOi7FugzRkQg",
        "outputId": "9250ee1d-f60e-46f1-8527-9e214bb3361c"
      }
    },
    {
      "cell_type": "code",
      "execution_count": null,
      "source": [
        "%ls"
      ],
      "outputs": [
        {
          "output_type": "stream",
          "name": "stdout",
          "text": [
            "\u001b[0m\u001b[01;34mcheckpoints\u001b[0m/           math_ds_sandbox.ipynb    spot_startup_script.sh\n",
            "checkpoints.py         math_ds_train.ipynb      tensorboard_utils.py\n",
            "gcloud_instance.sh     model_process.py         training.py\n",
            "loss.py                \u001b[01;34m__pycache__\u001b[0m/             \u001b[01;34mtransformer\u001b[0m/\n",
            "\u001b[01;34mLSTM\u001b[0m/                  README.md                utils.py\n",
            "math_dataset.py        \u001b[01;34mruns\u001b[0m/\n",
            "math_ds_predict.ipynb  spot_shutdown_script.sh\n"
          ]
        }
      ],
      "metadata": {
        "colab": {
          "base_uri": "https://localhost:8080/"
        },
        "id": "m57FZnnNS65R",
        "outputId": "8244566c-7904-4b82-8b10-78219884581c"
      }
    },
    {
      "cell_type": "code",
      "execution_count": null,
      "source": [
        "valid_ea = tensorboard_event_accumulator(\r\n",
        "    \"./runs/math_ds_algebra_linear_1d_easy_2019-05-25_0900_train/events.out.tfevents.1626765620.213c2d3b66d6\"\r\n",
        ")\r\n",
        "\r\n",
        "interpolate_ea = tensorboard_event_accumulator(\r\n",
        "    \"./runs/math_ds_algebra_linear_1d_easy_2019-05-25_0900_interpolate/events.out.tfevents.1626761358.22b9ae83bd65\"\r\n",
        ")\r\n",
        "\r\n",
        "valid_accuracy = valid_ea.Scalars(\"epoch/accuracy\")\r\n",
        "valid_loss_per_char = valid_ea.Scalars(\"epoch/loss_per_char\")\r\n",
        "\r\n",
        "interpolate_accuracy = interpolate_ea.Scalars(\"epoch/accuracy\")\r\n",
        "interpolate_loss_per_char = interpolate_ea.Scalars(\"epoch/loss_per_char\")"
      ],
      "outputs": [],
      "metadata": {
        "id": "4TjesjyvSTRc"
      }
    },
    {
      "cell_type": "code",
      "execution_count": 141,
      "source": [
        "questions = [\r\n",
        "    \"Solve 10 * d - 20 = -10 for d.\"\r\n",
        "]\r\n",
        "\r\n",
        "print(model_process.predict_multiple(questions, model, device))"
      ],
      "outputs": [
        {
          "output_type": "stream",
          "name": "stdout",
          "text": [
            "[{'resp': '1', 'score': -0.0258636474609375}]\n"
          ]
        }
      ],
      "metadata": {
        "colab": {
          "base_uri": "https://localhost:8080/"
        },
        "id": "mXH5UUjNTXwX",
        "outputId": "7f9d2e6d-b6f5-4739-c2b4-0e0f122e725d"
      }
    }
  ]
}